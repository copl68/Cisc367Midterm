{
 "cells": [
  {
   "cell_type": "markdown",
   "id": "9f5cd340",
   "metadata": {},
   "source": [
    "## Messy Midterm File"
   ]
  },
  {
   "cell_type": "markdown",
   "id": "486f1a96",
   "metadata": {},
   "source": [
    "#### Preliminary Ideas"
   ]
  },
  {
   "cell_type": "markdown",
   "id": "3c2754f7",
   "metadata": {},
   "source": [
    "- Initially wanted to look at types of food datasets\n",
    "- Then wanted to compare food inspection violations to timeline of covid, but enough finding data is matching locations proved to be somewhat difficult\n",
    "- Finding food data to relate to covid seemed too scarce, or not widespread enough, so I left that idea"
   ]
  },
  {
   "cell_type": "markdown",
   "id": "e7f75856",
   "metadata": {},
   "source": [
    "#### Imports"
   ]
  },
  {
   "cell_type": "code",
   "execution_count": 1,
   "id": "92d382c1",
   "metadata": {
    "tags": []
   },
   "outputs": [],
   "source": [
    "#Setup and imports\n",
    "import pandas as pd\n",
    "import numpy as np\n",
    "import seaborn as sns\n",
    "import matplotlib.pyplot as plt\n",
    "import numpy as np\n",
    "\n",
    "vac_raw = pd.read_csv('data/country_vaccinations.csv')\n",
    "#Wouldn't work, there were special characters\n",
    "#econ_raw = pd.read_csv('data/economic_freedom_index2019_data.csv')\n",
    "econ_raw = pd.read_csv('data/economic_freedom_index2019_data.csv', encoding='latin-1')"
   ]
  },
  {
   "cell_type": "code",
   "execution_count": 2,
   "id": "3f7866ff",
   "metadata": {},
   "outputs": [],
   "source": [
    "pd.set_option('display.max_rows', 20) \n",
    "pd.set_option('display.max_columns', 20) \n",
    "\n",
    "\n",
    "#Some random lines to try and determine why the offset between CountryID and the index in the econ data changed\n",
    "\n",
    "#econ[econ['CountryID'] == econ.shift()['CountryID']]\n",
    "#econ[econ['CountryID'] == econ.shift()['CountryID'].dropna().astype(int)]\n",
    "#len(econ.shift()['CountryID'].dropna().astype(int))\n",
    "#econ.loc[econ['CountryID'].shift(1) != econ['CountryID']] \n",
    "#econ['CountryID'].value_counts()\n",
    "#econ[econ['CountryID'] != econ.shift()['CountryID']+1]\n"
   ]
  },
  {
   "cell_type": "markdown",
   "id": "4612c599",
   "metadata": {},
   "source": [
    "#### Societal Problem"
   ]
  },
  {
   "cell_type": "markdown",
   "id": "eb2d4cd7",
   "metadata": {},
   "source": [
    "The issue of the Coronavirus pandemic is one that the entire world is not only extremely aware of, but one that has greatly impacted the lives of most. With development of effective vaccines, countries around the world are working to deliver vaccines to their residents as efficiently as possible. However, every country may not have equal access to the vaccine, and well-to-do countries may have much easier access to the vaccine than their less well-off counterparts. Insight into vaccine distribution among different countries could potentially highlight a problem of inequalities of Covid-19 vaccine distributions across the world."
   ]
  },
  {
   "cell_type": "markdown",
   "id": "ca54b1ee",
   "metadata": {},
   "source": [
    "#### Problem Justification"
   ]
  },
  {
   "cell_type": "markdown",
   "id": "be47f519",
   "metadata": {},
   "source": [
    "Receiving the Covid vaccine is vital in protecting against Covid-19, just like how the flu vaccine is vital\n",
    "to avoid contraction of the flu. More vaccines will lead to less people contracting Covid, thus dramatically reducing the \n",
    "spread. According to the Centers for Disease Control and Prevention, \"COVID-19 vaccination will be an important tool to\n",
    "help stop the pandemic.\" <sup>1</sup> "
   ]
  },
  {
   "cell_type": "markdown",
   "id": "44cbbefe",
   "metadata": {},
   "source": [
    "However, vaccines must be bought before they can be distributed, which can make it more difficult to obtain in poorer countries. As a result, Covid may remain a continuous problem in those areas. The obvious impact of Covid's continued existence is the detrimental health effects. The virus has caused almost 2.82 million deaths worldwide as of April 1st, 2021, however has infected almost 130 Million people worldwide.<sup>2</sup> Commonly observed effects of the virus include, but are not limited to, fever, cough, fatigue, and nausea<sup>3</sup>, however there is no way to be sure of the long term effects of the virus. In fact, studies have begun to find evidence of hidden neurological long term effects of Covid-19. Harvard studies have found that some individuals who have recovered from the virus show impaired attention ability, likely due to oxygen deprevation in the brain, which leads to minor brain damage. Covid infection may also lead to higher risk of alzheimers in the future. <sup>4</sup> "
   ]
  },
  {
   "cell_type": "markdown",
   "id": "c5e998cf",
   "metadata": {},
   "source": [
    "In additon to health risks, Coronavirus has posed as a major risk to the global economy. Travel and tourism industries have suffered due to lockdowns\n",
    "in many parts of the world. Airlines experienced a large dropoff in revenue due to the fact that there is very little need for flights during a pandemic. <sup>5</sup> Additionally, countries with economies that heavily depend on tourism, such as Jamaica, have seen dramatic declines in their economy. <sup>6</sup> Equally as important, there has been a decline in consumer demand for products due to the fact that so many places have some type of lockdown enforced. This decrease in demand has led to cuts in the number of workers in an effort to optimize company revenue, resulting in increased global unemployment and a $3.5 trillion loss in global income. <sup>7</sup>"
   ]
  },
  {
   "cell_type": "markdown",
   "id": "459792f4",
   "metadata": {},
   "source": [
    "It is obvious that mitigating these detrimental effects of Covid-19 is important for not only global health, but also the global economy. By exploring possible sources of distribution inequalities, we can gain some insight into the patterns of global vaccine distribution. "
   ]
  },
  {
   "cell_type": "markdown",
   "id": "3854c84f",
   "metadata": {},
   "source": [
    "#### Research Questions"
   ]
  },
  {
   "cell_type": "markdown",
   "id": "f020dcc4",
   "metadata": {},
   "source": [
    "  - How is the Covid-19 vaccine distribution different between countries? \n",
    "  - How do economic indicators, such as GDP  \n",
    "    and unemployment rate relate to the amount of vaccines distributed within a given country? \n",
    "  - How do these factors relate to how soon the first vaccines were administered within that country?"
   ]
  },
  {
   "cell_type": "markdown",
   "id": "37521e26",
   "metadata": {},
   "source": [
    "Gross Domestic Product (GDP) is a good metric due to the fact that is measures the monetary value of goods and services produced within a country. This provides an easily accessible metric for each country in question and is especially appropriate because we want to determine how vaccine distribution depends on the economic well-being of a country, which is well expressed by GDP.<sup>10</sup> In turn, unemployment rates have been greatly impacted by the pandemic and can reflect the recent impacts on the economy due to Covid-19.<sup>7</sup> It is important to consider these factors for the entire world rather than just a specific country because of the nature of Covid-19. The virus has impacted the entire globe and shut down international travel and had detrimental effects on the world economy because countries rely on each other for trading.<sup>11</sup> Looking at specific countries would not suffice because of how connected countries are to each other. A solution to stopping the spread of Covid-19 will have to consider the entire globe. "
   ]
  },
  {
   "cell_type": "markdown",
   "id": "3f97aa23",
   "metadata": {},
   "source": [
    "Identifying if there is a relationship between vaccine distribution and economic indicators could help determine ways to stop the spread of Covid-19.\n",
    "The importance of stoping the spread of Covid-19 is clear, and by determining where vaccine distribution is weaker than other countries, efforts can be made to make vaccines more readily available for individuals within those areas. "
   ]
  },
  {
   "cell_type": "markdown",
   "id": "da9b6327",
   "metadata": {},
   "source": [
    "#### Datasets"
   ]
  },
  {
   "cell_type": "code",
   "execution_count": 3,
   "id": "fd5efd85",
   "metadata": {},
   "outputs": [
    {
     "data": {
      "text/plain": [
       "136"
      ]
     },
     "execution_count": 3,
     "metadata": {},
     "output_type": "execute_result"
    }
   ],
   "source": [
    "len(vac_raw['country'].unique()) #Number of countries\n",
    "#BEWARE: There are 195 countries but only 136 reported. We cant make generalizations for the whole globe off of this"
   ]
  },
  {
   "cell_type": "markdown",
   "id": "1f21c9d0",
   "metadata": {},
   "source": [
    "[Country Vaccinations](https://www.kaggle.com/gpreda/covid-world-vaccination-progress) - \n",
    "This dataset provides vaccination information such as vaccination brand, date, total vaccinations, total people fully vaccinated for a total of 136 different countries. Similar information is available in terms of percentages rather that total numbers. We will be concerned with the total count data so that we are fair when comparing countries of greatly different population sizes. \n",
    "<br> [Economic Freedom Index](https://www.kaggle.com/lewisduncan93/the-economic-freedom-index) - This dataset provides lots of data regarding government spending, variations of GDP, unemployment, and numerous measures of freedom, such as business, labor, monetary, and trade freedom, for 186 diffrent countries. We will concern ourselves with country name, (region??), GDP, GDP per Capita, and unemployment rate. "
   ]
  },
  {
   "cell_type": "markdown",
   "id": "18780e77",
   "metadata": {},
   "source": [
    "#### Manipulation"
   ]
  },
  {
   "cell_type": "markdown",
   "id": "9a4f5177",
   "metadata": {},
   "source": [
    "###### Set up econ"
   ]
  },
  {
   "cell_type": "code",
   "execution_count": 4,
   "id": "f9cbe234",
   "metadata": {},
   "outputs": [],
   "source": [
    "#econ[econ['Country Name'] != econ['WEBNAME']]      #See the differences between the two columns\n",
    "econ = pd.DataFrame()\n",
    "econ['Country Name'] = econ_raw['Country Name']\n",
    "econ['Region'] = econ_raw['Region']\n",
    "econ['GDP (Billions, PPP)'] = econ_raw['GDP (Billions, PPP)']\n",
    "econ['GDP per Capita (PPP)'] = econ_raw['GDP per Capita (PPP)']\n",
    "econ['Unemployment (%)'] = econ_raw['Unemployment (%)']"
   ]
  },
  {
   "cell_type": "markdown",
   "id": "7f0fd86e",
   "metadata": {},
   "source": [
    "###### Set up vac"
   ]
  },
  {
   "cell_type": "code",
   "execution_count": 5,
   "id": "215f2007",
   "metadata": {},
   "outputs": [],
   "source": [
    "vac = pd.DataFrame()\n",
    "vac['country'] = vac_raw['country']\n",
    "vac['date'] = vac_raw['date']\n",
    "vac['total_vaccinations'] = vac_raw['total_vaccinations']\n",
    "vac['people_vaccinated'] = vac_raw['people_vaccinated']\n",
    "vac['people_fully_vaccinated'] = vac_raw['people_fully_vaccinated']\n",
    "vac['daily_vaccinations'] = vac_raw['daily_vaccinations']\n",
    "vac['total_vaccinations_per_hundred'] = vac_raw['total_vaccinations_per_hundred']\n",
    "vac['people_vaccinated_per_hundred'] = vac_raw['people_vaccinated_per_hundred']\n",
    "vac['people_fully_vaccinated_per_hundred'] = vac_raw['people_fully_vaccinated_per_hundred']"
   ]
  },
  {
   "cell_type": "code",
   "execution_count": 6,
   "id": "daf5f340",
   "metadata": {},
   "outputs": [
    {
     "data": {
      "text/plain": [
       "114"
      ]
     },
     "execution_count": 6,
     "metadata": {},
     "output_type": "execute_result"
    },
    {
     "data": {
      "image/png": "[encoded data removed]",
      "text/plain": [
       "<Figure size 432x288 with 1 Axes>"
      ]
     },
     "metadata": {
      "needs_background": "light"
     },
     "output_type": "display_data"
    }
   ],
   "source": [
    "import matplotlib.ticker as ticker\n",
    "\n",
    "pd.set_option('display.max_rows', None) \n",
    "#BEWARE: All data is not from the same data... \"most recent\" is different for different countries\n",
    "vac.groupby(['country', 'date'])['total_vaccinations'].max()\n",
    "latest = vac.groupby(['country'])['date'].max().astype('datetime64')     #This we can see a wide rande of most recent reportings for each country\n",
    "vac['date'].astype('datetime64')\n",
    "#vac['date'].astype('int')\n",
    "#plt.hist(latest, bins=10)\n",
    "#plt.xticks(10)      #worth a shot\n",
    "#plt.locator_params(axis='x', nbins=10)\n",
    "\n",
    "#Im just trying to change the xaxis tick marks ugh\n",
    "\n",
    "#fig, ax = plt.subplots(1,1)\n",
    "#ax.plot(vac['date'])\n",
    "#ax.xaxis.set_major_locator(ticker.MultipleLocator(500))\n",
    "#plt.show()\n",
    "#q = latest.apply(lambda x: x.value)\n",
    "#w = q.apply(lambda x: x - q.min())\n",
    "#plt.hist(w, bins = [i for i in range(w.min(), w.max(), int((w.max()-w.min())/15))])\n",
    "#plt.xticks([round(i,1) for i in range(w.min(), w.max(), int((w.max()-w.min())/15))])\n",
    "#[round(i,1) for i in range(w.min(), w.max(), int((w.max()-w.min())/15))]\n",
    "\n",
    "mine = latest.groupby([latest.dt.year, latest.dt.month, latest.dt.day]).value_counts().plot(kind=\"bar\")\n",
    "#plt.xticks([latest.unique()])\n",
    "#pd.Series(latest.unique()).sort_values(latest.dt.day)\n",
    "\n",
    "#Too much time just looking at the distribution of latest report dates... this graph gives enough data just for\n",
    "#my knowledge... probably wont include in the final at this point\n",
    "latest[latest >= '2021-03-01'].count()"
   ]
  },
  {
   "cell_type": "code",
   "execution_count": 7,
   "id": "812f4a00",
   "metadata": {},
   "outputs": [
    {
     "data": {
      "text/plain": [
       "0.8382352941176471"
      ]
     },
     "execution_count": 7,
     "metadata": {},
     "output_type": "execute_result"
    }
   ],
   "source": [
    "latest[latest >= '2021-03-01'].count()/latest.count()    #Percent of countries with dates on/after March 1st"
   ]
  },
  {
   "cell_type": "raw",
   "id": "37413886",
   "metadata": {},
   "source": [
    "Now... this can cause some problems! How are we supposed to compare vaccine distribution between countries if the latest reported dates are around 2 months apart? We can either backtrack and compare all countries at the January 18th (which means we're losing months of important data). OR, we can look only at countries with later reported dates. If we look at recent dates from March 1st to March 14th, we can still observe 84% of the data"
   ]
  },
  {
   "cell_type": "code",
   "execution_count": 30,
   "id": "d22c709e",
   "metadata": {},
   "outputs": [],
   "source": [
    "#df.loc[df.groupby([\"sp\", \"mt\"])[\"count\"].idxmax()]\n",
    "pd.set_option('display.max_rows', None) \n",
    "\n",
    "vac = vac[vac['date'] >= '2021-03-01']        #Remove all  entries with dates before march\n",
    "vac = vac.drop(vac[vac['total_vaccinations'].isnull()].index.values)   #Remore all entries with NaN total vaccination count\n",
    "#vac.groupby('country')['date'].astype('datetime64').idxmax()     #Many variations of this tried\n",
    "vac = vac.drop_duplicates(['country'], keep='last')\n",
    "#vac = vac.reset_index()\n",
    "#vac = vac.drop(['level_0'], axis=1)\n",
    "#vac"
   ]
  },
  {
   "cell_type": "code",
   "execution_count": 51,
   "id": "e89650ce",
   "metadata": {},
   "outputs": [
    {
     "data": {
      "image/png": "[encoded data removed]",
      "text/plain": [
       "<Figure size 432x288 with 1 Axes>"
      ]
     },
     "metadata": {
      "needs_background": "light"
     },
     "output_type": "display_data"
    },
    {
     "data": {
      "text/plain": [
       "count    114.000000\n",
       "mean       2.910631\n",
       "std       10.886642\n",
       "min        0.001215\n",
       "25%        0.040812\n",
       "50%        0.256012\n",
       "75%        1.253572\n",
       "max      107.060274\n",
       "Name: total_vaccinations, dtype: float64"
      ]
     },
     "execution_count": 51,
     "metadata": {},
     "output_type": "execute_result"
    }
   ],
   "source": [
    "plt.hist(vac['total_vaccinations'].apply(lambda x: x/1000000), bins=25)\n",
    "#vac['total_vaccinations'].apply(lambda x: x/1000)\n",
    "plt.title(\"Histogram of Vaccines Distributed (in Millions)\")\n",
    "plt.xlabel('Vaccines Distributed (in Millions)')\n",
    "plt.ylabel('Frequency')\n",
    "plt.show()\n",
    "vac['total_vaccinations'].apply(lambda x: x/1000000).describe()"
   ]
  },
  {
   "cell_type": "code",
   "execution_count": 32,
   "id": "5c64a141",
   "metadata": {},
   "outputs": [
    {
     "data": {
      "text/plain": [
       "104         1215.0\n",
       "102         2076.0\n",
       "85          2094.0\n",
       "58          3536.0\n",
       "68          3793.0\n",
       "86          4832.0\n",
       "1           4914.0\n",
       "40          5130.0\n",
       "111         5248.0\n",
       "2           6169.0\n",
       "27          7202.0\n",
       "11          7444.0\n",
       "76          7579.0\n",
       "33          8832.0\n",
       "54          9144.0\n",
       "66         11431.0\n",
       "110        12194.0\n",
       "22         14937.0\n",
       "71         18000.0\n",
       "0          23635.0\n",
       "30         25000.0\n",
       "61         27637.0\n",
       "12         27727.0\n",
       "42         29383.0\n",
       "41         30890.0\n",
       "18         31980.0\n",
       "49         32027.0\n",
       "113        36359.0\n",
       "53         39428.0\n",
       "101        44963.0\n",
       "38         46136.0\n",
       "45         46862.0\n",
       "9          50980.0\n",
       "105        53155.0\n",
       "60         54865.0\n",
       "91         88106.0\n",
       "57         95888.0\n",
       "56         97104.0\n",
       "74         98168.0\n",
       "24         99275.0\n",
       "67        100000.0\n",
       "78        114500.0\n",
       "64        120073.0\n",
       "89        131186.0\n",
       "13        138218.0\n",
       "29        139359.0\n",
       "95        145544.0\n",
       "4         162551.0\n",
       "16        170659.0\n",
       "32        185912.0\n",
       "43        190700.0\n",
       "109       204169.0\n",
       "63        206114.0\n",
       "52        230542.0\n",
       "21        241724.0\n",
       "75        252313.0\n",
       "84        254000.0\n",
       "94        258024.0\n",
       "62        292104.0\n",
       "37        300000.0\n",
       "23        300956.0\n",
       "15        338879.0\n",
       "59        352533.0\n",
       "55        360000.0\n",
       "81        380000.0\n",
       "6         453586.0\n",
       "77        492488.0\n",
       "7         551197.0\n",
       "96        588958.0\n",
       "48        589512.0\n",
       "92        611314.0\n",
       "93        620928.0\n",
       "28        660000.0\n",
       "72        677602.0\n",
       "34        682945.0\n",
       "73        690657.0\n",
       "98        773011.0\n",
       "20        782301.0\n",
       "26        834041.0\n",
       "5        1026244.0\n",
       "100      1035004.0\n",
       "25       1081907.0\n",
       "99       1093915.0\n",
       "10       1145988.0\n",
       "80       1163873.0\n",
       "39       1283472.0\n",
       "112      1370896.0\n",
       "70       1619839.0\n",
       "44       1733557.0\n",
       "90       2007650.0\n",
       "88       2048735.0\n",
       "82       2069143.0\n",
       "87       2232110.0\n",
       "3        2381429.0\n",
       "17       3026665.0\n",
       "65       4339926.0\n",
       "8        4398094.0\n",
       "79       4517537.0\n",
       "97       5352767.0\n",
       "47       5480346.0\n",
       "69       5682508.0\n",
       "106      6540912.0\n",
       "19       6591788.0\n",
       "51       6715732.0\n",
       "35       7292852.0\n",
       "83       7698889.0\n",
       "36       8863270.0\n",
       "50       9374827.0\n",
       "103     10992095.0\n",
       "14      11422666.0\n",
       "31      21683887.0\n",
       "107     25781120.0\n",
       "46      29908038.0\n",
       "108    107060274.0\n",
       "Name: total_vaccinations, dtype: float64"
      ]
     },
     "execution_count": 32,
     "metadata": {},
     "output_type": "execute_result"
    }
   ],
   "source": [
    "#Thats crazy! Half of the countries have given below 250,000 vaccines an 75% below 1,250,000. However the max is 107M. \n",
    "vac['total_vaccinations'].sort_values()\n",
    "#We can see that there is that one outlier"
   ]
  },
  {
   "cell_type": "code",
   "execution_count": 11,
   "id": "d5a3e060",
   "metadata": {},
   "outputs": [
    {
     "name": "stdout",
     "output_type": "stream",
     "text": [
      "The United States are an outlier with  107060274.0  total vaccines\n",
      "Can we remove the US for a second to get insight into the rest of the data\n"
     ]
    }
   ],
   "source": [
    "max = vac['total_vaccinations'].sort_values().dropna().max()\n",
    "#vac.query('total_vaccinations==max')['country']\n",
    "#df['A'][df['B'] == 3].values[0]\n",
    "vac['country'][vac['total_vaccinations'] == max].values[0]\n",
    "print(\"The United States are an outlier with \", max, \" total vaccines\") \n",
    "print(\"Can we remove the US for a second to get insight into the rest of the data\")"
   ]
  },
  {
   "cell_type": "code",
   "execution_count": 52,
   "id": "da7d3118",
   "metadata": {},
   "outputs": [
    {
     "data": {
      "image/png": "[encoded data removed]",
      "text/plain": [
       "<Figure size 432x288 with 1 Axes>"
      ]
     },
     "metadata": {
      "needs_background": "light"
     },
     "output_type": "display_data"
    },
    {
     "data": {
      "text/plain": [
       "count    113.000000\n",
       "mean       1.988952\n",
       "std        4.676598\n",
       "min        0.001215\n",
       "25%        0.039428\n",
       "50%        0.254000\n",
       "75%        1.163873\n",
       "max       29.908038\n",
       "Name: total_vaccinations, dtype: float64"
      ]
     },
     "execution_count": 52,
     "metadata": {},
     "output_type": "execute_result"
    }
   ],
   "source": [
    "#Now without the US\n",
    "plt.hist(vac['total_vaccinations'].sort_values()[:-1].apply(lambda x: x/1000000), bins=25)\n",
    "#vac['total_vaccinations'].apply(lambda x: x/1000)\n",
    "plt.title(\"Histogram of Vaccines Distributed w/o the United States (in Millions)\")\n",
    "plt.xlabel('Vaccines Distributed (in Millions)')\n",
    "plt.ylabel('Frequency')\n",
    "plt.show()\n",
    "vac['total_vaccinations'].sort_values()[:-1].apply(lambda x: x/1000000).describe()"
   ]
  },
  {
   "cell_type": "markdown",
   "id": "77842835",
   "metadata": {},
   "source": [
    "At this point, I'll add a new question based off of the distributions of vaccine distribution data\n",
    "- How even is the current distribution of vaccines across all countries?\n",
    "**Dont forget to add to final questions**"
   ]
  },
  {
   "cell_type": "code",
   "execution_count": 160,
   "id": "ed93cbcc",
   "metadata": {},
   "outputs": [
    {
     "data": {
      "text/plain": [
       "0                   Albania\n",
       "1                   Andorra\n",
       "2                    Angola\n",
       "3                 Argentina\n",
       "4                 Australia\n",
       "5                   Austria\n",
       "6                Azerbaijan\n",
       "7                   Bahrain\n",
       "8                Bangladesh\n",
       "9                  Barbados\n",
       "10                  Belgium\n",
       "11                   Belize\n",
       "12                  Bermuda\n",
       "13                  Bolivia\n",
       "14                   Brazil\n",
       "15                 Bulgaria\n",
       "16                 Cambodia\n",
       "17                   Canada\n",
       "18           Cayman Islands\n",
       "19                    Chile\n",
       "20                 Colombia\n",
       "21               Costa Rica\n",
       "22            Cote d'Ivoire\n",
       "23                  Croatia\n",
       "24                   Cyprus\n",
       "25                  Czechia\n",
       "26                  Denmark\n",
       "27                 Dominica\n",
       "28       Dominican Republic\n",
       "29                  Ecuador\n",
       "30              El Salvador\n",
       "31                  England\n",
       "32                  Estonia\n",
       "33           Faeroe Islands\n",
       "34                  Finland\n",
       "35                   France\n",
       "36                  Germany\n",
       "37                    Ghana\n",
       "38                Gibraltar\n",
       "39                   Greece\n",
       "40                Greenland\n",
       "41                Guatemala\n",
       "42                 Guernsey\n",
       "43                Hong Kong\n",
       "44                  Hungary\n",
       "45                  Iceland\n",
       "46                    India\n",
       "47                Indonesia\n",
       "48                  Ireland\n",
       "49              Isle of Man\n",
       "50                   Israel\n",
       "51                    Italy\n",
       "52                    Japan\n",
       "53                   Jersey\n",
       "54                    Kenya\n",
       "55                   Kuwait\n",
       "56                   Latvia\n",
       "57                  Lebanon\n",
       "58            Liechtenstein\n",
       "59                Lithuania\n",
       "60               Luxembourg\n",
       "61                    Macao\n",
       "62                 Malaysia\n",
       "63                 Maldives\n",
       "64                    Malta\n",
       "65                   Mexico\n",
       "66                  Moldova\n",
       "67                 Mongolia\n",
       "68               Montenegro\n",
       "69                  Morocco\n",
       "70              Netherlands\n",
       "71              New Zealand\n",
       "72         Northern Ireland\n",
       "73                   Norway\n",
       "74                     Oman\n",
       "75                   Panama\n",
       "76                 Paraguay\n",
       "77                     Peru\n",
       "78              Philippines\n",
       "79                   Poland\n",
       "80                 Portugal\n",
       "81                    Qatar\n",
       "82                  Romania\n",
       "83                   Russia\n",
       "84                   Rwanda\n",
       "85              Saint Lucia\n",
       "86               San Marino\n",
       "87             Saudi Arabia\n",
       "88                 Scotland\n",
       "89                  Senegal\n",
       "90                   Serbia\n",
       "91               Seychelles\n",
       "92                Singapore\n",
       "93                 Slovakia\n",
       "94                 Slovenia\n",
       "95             South Africa\n",
       "96              South Korea\n",
       "97                    Spain\n",
       "98                Sri Lanka\n",
       "99                   Sweden\n",
       "100             Switzerland\n",
       "101                Thailand\n",
       "102                 Tunisia\n",
       "103                  Turkey\n",
       "104                  Uganda\n",
       "105                 Ukraine\n",
       "106    United Arab Emirates\n",
       "107          United Kingdom\n",
       "108           United States\n",
       "109                 Uruguay\n",
       "110               Venezuela\n",
       "111                 Vietnam\n",
       "112                   Wales\n",
       "113                Zimbabwe\n",
       "Name: country, dtype: object"
      ]
     },
     "execution_count": 160,
     "metadata": {},
     "output_type": "execute_result"
    }
   ],
   "source": [
    "vac['country'].sort_values()      #looking at the vaccine countries\n",
    "#econ['Country Name']\n",
    "#econ"
   ]
  },
  {
   "cell_type": "code",
   "execution_count": 166,
   "id": "1d32dc02",
   "metadata": {},
   "outputs": [
    {
     "data": {
      "text/plain": [
       "0          23635.0\n",
       "1           4914.0\n",
       "2           6169.0\n",
       "3        2381429.0\n",
       "4         162551.0\n",
       "5        1026244.0\n",
       "6         453586.0\n",
       "7         551197.0\n",
       "8        4398094.0\n",
       "9          50980.0\n",
       "10       1145988.0\n",
       "11          7444.0\n",
       "12         27727.0\n",
       "13        138218.0\n",
       "14      11422666.0\n",
       "15        338879.0\n",
       "16        170659.0\n",
       "17       3026665.0\n",
       "18         31980.0\n",
       "19       6591788.0\n",
       "20        782301.0\n",
       "21        241724.0\n",
       "22         14937.0\n",
       "23        300956.0\n",
       "24         99275.0\n",
       "25       1081907.0\n",
       "26        834041.0\n",
       "27          7202.0\n",
       "28        660000.0\n",
       "29        139359.0\n",
       "30         25000.0\n",
       "31      21683887.0\n",
       "32        185912.0\n",
       "33          8832.0\n",
       "34        682945.0\n",
       "35       7292852.0\n",
       "36       8863270.0\n",
       "37        300000.0\n",
       "38         46136.0\n",
       "39       1283472.0\n",
       "40          5130.0\n",
       "41         30890.0\n",
       "42         29383.0\n",
       "43        190700.0\n",
       "44       1733557.0\n",
       "45         46862.0\n",
       "46      29908038.0\n",
       "47       5480346.0\n",
       "48        589512.0\n",
       "49         32027.0\n",
       "50       9374827.0\n",
       "51       6715732.0\n",
       "52        230542.0\n",
       "53         39428.0\n",
       "54          9144.0\n",
       "55        360000.0\n",
       "56         97104.0\n",
       "57         95888.0\n",
       "58          3536.0\n",
       "59        352533.0\n",
       "60         54865.0\n",
       "61         27637.0\n",
       "62        292104.0\n",
       "63        206114.0\n",
       "64        120073.0\n",
       "65       4339926.0\n",
       "66         11431.0\n",
       "67        100000.0\n",
       "68          3793.0\n",
       "69       5682508.0\n",
       "70       1619839.0\n",
       "71         18000.0\n",
       "72        677602.0\n",
       "73        690657.0\n",
       "74         98168.0\n",
       "75        252313.0\n",
       "76          7579.0\n",
       "77        492488.0\n",
       "78        114500.0\n",
       "79       4517537.0\n",
       "80       1163873.0\n",
       "81        380000.0\n",
       "82       2069143.0\n",
       "83       7698889.0\n",
       "84        254000.0\n",
       "85          2094.0\n",
       "86          4832.0\n",
       "87       2232110.0\n",
       "88       2048735.0\n",
       "89        131186.0\n",
       "90       2007650.0\n",
       "91         88106.0\n",
       "92        611314.0\n",
       "93        620928.0\n",
       "94        258024.0\n",
       "95        145544.0\n",
       "96        588958.0\n",
       "97       5352767.0\n",
       "98        773011.0\n",
       "99       1093915.0\n",
       "100      1035004.0\n",
       "101        44963.0\n",
       "102         2076.0\n",
       "103     10992095.0\n",
       "104         1215.0\n",
       "105        53155.0\n",
       "106      6540912.0\n",
       "107     25781120.0\n",
       "108    107060274.0\n",
       "109       204169.0\n",
       "110        12194.0\n",
       "111         5248.0\n",
       "112      1370896.0\n",
       "113        36359.0\n",
       "Name: total_vaccinations, dtype: float64"
      ]
     },
     "execution_count": 166,
     "metadata": {},
     "output_type": "execute_result"
    }
   ],
   "source": [
    "tot_vac = vac['total_vaccinations']\n",
    "gdps = [[x, econ[econ['Country Name'] == x]['GDP (Billions, PPP)']] for x in vac['country']]\n",
    "\n",
    "#econ[econ['Country Name'] == 'Australia']['GDP (Billions, PPP)']\n",
    "#econ\n",
    "vac['country'].head(5)\n",
    "#econ[econ['Country Name'] == 'Andorra']\n",
    "econ['Country Name'].sort_values()\n",
    "\n",
    "#Oh no! The united kingdom is split up into Northern Ireland, Scotland, Wales, and England\n",
    "#A few other places are formatted differently, so I'll go back manually or look them up\n",
    "pd.Series(gdps)\n",
    "gdps[1][1] = ['$3.2']       #Andorra\n",
    "gdps[12][1] = ['$7.5']      #Bermuda\n",
    "gdps[18][1] = ['$5.5']      #Cayman Islands\n",
    "gdps[22][1] = ['$96.9']     #Cote d'Ivoire\n",
    "gdps[25][1] = ['$250.7']    #Czechia\n",
    "gdps[31][1] = ['$2,500']    #England\n",
    "gdps[33][1] = ['$3.1']      #Faeroe Islands\n",
    "gdps[38][1] = ['$3.2']      #Gibraltar\n",
    "gdps[40][1] = ['$3.1']      #Greenland\n",
    "gdps[42][1] = ['$3.5']      #Guernsey\n",
    "gdps[49][1] = ['$7.5']      #Isleof Man\n",
    "gdps[53][1] = ['$6.6']      #Jersey\n",
    "gdps[58][1] = ['$6.5']      #Liechtenstein\n",
    "gdps[61][1] = ['$53.9']     #Macao\n",
    "gdps[72][1] = ['$63.5']     #Northern Ireland\n",
    "gdps[86][1] = ['$1.7']      #San Marino\n",
    "gdps[88][1] = ['$205']      #Scotland\n",
    "gdps[96][1] = ['$2,029.0']  #South Korea\n",
    "gdps[112][1] = ['$103.7']   #Wales\n",
    "#list(pd.Series(gdps)[0][1])\n",
    "realgdps = pd.Series(gdps).apply(lambda x: list(x[1])[0].replace('$','').replace(',', '').strip())\n",
    "pd.Series(gdps)\n",
    "#vac     #weird that they have UK AND all the separate components\n",
    "realgdps\n",
    "tot_va"
   ]
  },
  {
   "cell_type": "code",
   "execution_count": 12,
   "id": "83393346",
   "metadata": {},
   "outputs": [
    {
     "data": {
      "text/html": [
       "<div>\n",
       "<style scoped>\n",
       "    .dataframe tbody tr th:only-of-type {\n",
       "        vertical-align: middle;\n",
       "    }\n",
       "\n",
       "    .dataframe tbody tr th {\n",
       "        vertical-align: top;\n",
       "    }\n",
       "\n",
       "    .dataframe thead th {\n",
       "        text-align: right;\n",
       "    }\n",
       "</style>\n",
       "<table border=\"1\" class=\"dataframe\">\n",
       "  <thead>\n",
       "    <tr style=\"text-align: right;\">\n",
       "      <th></th>\n",
       "      <th>country</th>\n",
       "      <th>date</th>\n",
       "      <th>total_vaccinations</th>\n",
       "      <th>people_vaccinated</th>\n",
       "      <th>people_fully_vaccinated</th>\n",
       "      <th>daily_vaccinations</th>\n",
       "      <th>total_vaccinations_per_hundred</th>\n",
       "      <th>people_vaccinated_per_hundred</th>\n",
       "      <th>people_fully_vaccinated_per_hundred</th>\n",
       "    </tr>\n",
       "  </thead>\n",
       "  <tbody>\n",
       "    <tr>\n",
       "      <th>50</th>\n",
       "      <td>Albania</td>\n",
       "      <td>2021-03-01</td>\n",
       "      <td>14295.0</td>\n",
       "      <td>NaN</td>\n",
       "      <td>NaN</td>\n",
       "      <td>1081.0</td>\n",
       "      <td>0.50</td>\n",
       "      <td>NaN</td>\n",
       "      <td>NaN</td>\n",
       "    </tr>\n",
       "    <tr>\n",
       "      <th>51</th>\n",
       "      <td>Albania</td>\n",
       "      <td>2021-03-02</td>\n",
       "      <td>NaN</td>\n",
       "      <td>NaN</td>\n",
       "      <td>NaN</td>\n",
       "      <td>1026.0</td>\n",
       "      <td>NaN</td>\n",
       "      <td>NaN</td>\n",
       "      <td>NaN</td>\n",
       "    </tr>\n",
       "    <tr>\n",
       "      <th>52</th>\n",
       "      <td>Albania</td>\n",
       "      <td>2021-03-03</td>\n",
       "      <td>15793.0</td>\n",
       "      <td>NaN</td>\n",
       "      <td>NaN</td>\n",
       "      <td>971.0</td>\n",
       "      <td>0.55</td>\n",
       "      <td>NaN</td>\n",
       "      <td>NaN</td>\n",
       "    </tr>\n",
       "    <tr>\n",
       "      <th>53</th>\n",
       "      <td>Albania</td>\n",
       "      <td>2021-03-04</td>\n",
       "      <td>NaN</td>\n",
       "      <td>NaN</td>\n",
       "      <td>NaN</td>\n",
       "      <td>927.0</td>\n",
       "      <td>NaN</td>\n",
       "      <td>NaN</td>\n",
       "      <td>NaN</td>\n",
       "    </tr>\n",
       "    <tr>\n",
       "      <th>54</th>\n",
       "      <td>Albania</td>\n",
       "      <td>2021-03-05</td>\n",
       "      <td>NaN</td>\n",
       "      <td>NaN</td>\n",
       "      <td>NaN</td>\n",
       "      <td>897.0</td>\n",
       "      <td>NaN</td>\n",
       "      <td>NaN</td>\n",
       "      <td>NaN</td>\n",
       "    </tr>\n",
       "    <tr>\n",
       "      <th>...</th>\n",
       "      <td>...</td>\n",
       "      <td>...</td>\n",
       "      <td>...</td>\n",
       "      <td>...</td>\n",
       "      <td>...</td>\n",
       "      <td>...</td>\n",
       "      <td>...</td>\n",
       "      <td>...</td>\n",
       "      <td>...</td>\n",
       "    </tr>\n",
       "    <tr>\n",
       "      <th>6320</th>\n",
       "      <td>Zimbabwe</td>\n",
       "      <td>2021-03-10</td>\n",
       "      <td>35901.0</td>\n",
       "      <td>35901.0</td>\n",
       "      <td>NaN</td>\n",
       "      <td>1133.0</td>\n",
       "      <td>0.24</td>\n",
       "      <td>0.24</td>\n",
       "      <td>NaN</td>\n",
       "    </tr>\n",
       "    <tr>\n",
       "      <th>6321</th>\n",
       "      <td>Zimbabwe</td>\n",
       "      <td>2021-03-11</td>\n",
       "      <td>36019.0</td>\n",
       "      <td>36019.0</td>\n",
       "      <td>NaN</td>\n",
       "      <td>766.0</td>\n",
       "      <td>0.24</td>\n",
       "      <td>0.24</td>\n",
       "      <td>NaN</td>\n",
       "    </tr>\n",
       "    <tr>\n",
       "      <th>6322</th>\n",
       "      <td>Zimbabwe</td>\n",
       "      <td>2021-03-12</td>\n",
       "      <td>36283.0</td>\n",
       "      <td>36283.0</td>\n",
       "      <td>NaN</td>\n",
       "      <td>708.0</td>\n",
       "      <td>0.24</td>\n",
       "      <td>0.24</td>\n",
       "      <td>NaN</td>\n",
       "    </tr>\n",
       "    <tr>\n",
       "      <th>6323</th>\n",
       "      <td>Zimbabwe</td>\n",
       "      <td>2021-03-13</td>\n",
       "      <td>36359.0</td>\n",
       "      <td>36359.0</td>\n",
       "      <td>NaN</td>\n",
       "      <td>621.0</td>\n",
       "      <td>0.24</td>\n",
       "      <td>0.24</td>\n",
       "      <td>NaN</td>\n",
       "    </tr>\n",
       "    <tr>\n",
       "      <th>6324</th>\n",
       "      <td>Zimbabwe</td>\n",
       "      <td>2021-03-14</td>\n",
       "      <td>36359.0</td>\n",
       "      <td>36359.0</td>\n",
       "      <td>NaN</td>\n",
       "      <td>588.0</td>\n",
       "      <td>0.24</td>\n",
       "      <td>0.24</td>\n",
       "      <td>NaN</td>\n",
       "    </tr>\n",
       "  </tbody>\n",
       "</table>\n",
       "<p>1360 rows × 9 columns</p>\n",
       "</div>"
      ],
      "text/plain": [
       "       country        date  total_vaccinations  people_vaccinated  \\\n",
       "50     Albania  2021-03-01             14295.0                NaN   \n",
       "51     Albania  2021-03-02                 NaN                NaN   \n",
       "52     Albania  2021-03-03             15793.0                NaN   \n",
       "53     Albania  2021-03-04                 NaN                NaN   \n",
       "54     Albania  2021-03-05                 NaN                NaN   \n",
       "...        ...         ...                 ...                ...   \n",
       "6320  Zimbabwe  2021-03-10             35901.0            35901.0   \n",
       "6321  Zimbabwe  2021-03-11             36019.0            36019.0   \n",
       "6322  Zimbabwe  2021-03-12             36283.0            36283.0   \n",
       "6323  Zimbabwe  2021-03-13             36359.0            36359.0   \n",
       "6324  Zimbabwe  2021-03-14             36359.0            36359.0   \n",
       "\n",
       "      people_fully_vaccinated  daily_vaccinations  \\\n",
       "50                        NaN              1081.0   \n",
       "51                        NaN              1026.0   \n",
       "52                        NaN               971.0   \n",
       "53                        NaN               927.0   \n",
       "54                        NaN               897.0   \n",
       "...                       ...                 ...   \n",
       "6320                      NaN              1133.0   \n",
       "6321                      NaN               766.0   \n",
       "6322                      NaN               708.0   \n",
       "6323                      NaN               621.0   \n",
       "6324                      NaN               588.0   \n",
       "\n",
       "      total_vaccinations_per_hundred  people_vaccinated_per_hundred  \\\n",
       "50                              0.50                            NaN   \n",
       "51                               NaN                            NaN   \n",
       "52                              0.55                            NaN   \n",
       "53                               NaN                            NaN   \n",
       "54                               NaN                            NaN   \n",
       "...                              ...                            ...   \n",
       "6320                            0.24                           0.24   \n",
       "6321                            0.24                           0.24   \n",
       "6322                            0.24                           0.24   \n",
       "6323                            0.24                           0.24   \n",
       "6324                            0.24                           0.24   \n",
       "\n",
       "      people_fully_vaccinated_per_hundred  \n",
       "50                                    NaN  \n",
       "51                                    NaN  \n",
       "52                                    NaN  \n",
       "53                                    NaN  \n",
       "54                                    NaN  \n",
       "...                                   ...  \n",
       "6320                                  NaN  \n",
       "6321                                  NaN  \n",
       "6322                                  NaN  \n",
       "6323                                  NaN  \n",
       "6324                                  NaN  \n",
       "\n",
       "[1360 rows x 9 columns]"
      ]
     },
     "execution_count": 12,
     "metadata": {},
     "output_type": "execute_result"
    }
   ],
   "source": [
    "pd.set_option('display.max_rows', 20) \n",
    "vac"
   ]
  },
  {
   "cell_type": "markdown",
   "id": "632ac3d4",
   "metadata": {},
   "source": [
    "#### Sources\n",
    "<sup>1</sup> Centers for Disease Control and Prevention. *Benefits of Getting a COVID-19 Vaccine.* Centers for Disease Control and Prevention. [https://www.cdc.gov/coronavirus/2019-ncov/vaccines/vaccine-benefits.html. ](https://www.cdc.gov/coronavirus/2019-ncov/vaccines/vaccine-benefits.html)\n",
    "<br><sup>2</sup> “COVID-19 Dashboard by the Center for Systems Science and Engineering (CSSE) at Johns Hopkins University (JHU).” *ArcGIS Dashboards*, John Hopkins Coronavirus Resource Center, 2021, [www.arcgis.com/apps/opsdashboard/index.html#/bda7594740fd40299423467b48e9ecf6.](www.arcgis.com/apps/opsdashboard/index.html#/bda7594740fd40299423467b48e9ecf6.)\n",
    "<br><sup>3</sup> *Symptoms of Coronavirus*. (2021, February 22). Retrieved April 01, 2021, from [https://www.cdc.gov/coronavirus/2019-ncov/symptoms-testing/symptoms.html](https://www.cdc.gov/coronavirus/2019-ncov/symptoms-testing/symptoms.html)\n",
    "<br><sup>4</sup> Budson, A. (2021, March 04). *The hidden long-term cognitive effects of covid-19*. Retrieved April 01, 2021, from [https://www.health.harvard.edu/blog/the-hidden-long-term-cognitive-effects-of-covid-2020100821133](https://www.health.harvard.edu/blog/the-hidden-long-term-cognitive-effects-of-covid-2020100821133)\n",
    "<br><sup>5</sup> Szmigiera, M. (2021, March 24). *Impact of the coronavirus pandemic on the global economy - Statistics & Facts*. Retrieved April 01, 2021, from [https://www.statista.com/topics/6139/covid-19-impact-on-the-global-economy/](https://www.statista.com/topics/6139/covid-19-impact-on-the-global-economy/)\n",
    "<br><sup>6</sup> *Jamaica: Economic Outline*. Mar. 2021, [www.lloydsbanktrade.com/en/market-potential/jamaica/economy](www.lloydsbanktrade.com/en/market-potential/jamaica/economy)\n",
    "<br><sup>7</sup> “Economic Impact of the COVID-19 Pandemic.” *Wikipedia*, Wikimedia Foundation, 31 Mar. 2021, [en.wikipedia.org/wiki/Economic_impact_of_the_COVID-19_pandemic#Overall_economic_contraction](en.wikipedia.org/wiki/Economic_impact_of_the_COVID-19_pandemic#Overall_economic_contraction)\n",
    "<br><sup>8</sup> Singh, Ajai R, and Shakuntala A Singh. “Diseases of poverty and lifestyle, well-being and human development.” *Mens sana monographs* vol. 6,1 (2008): 187-225. doi:10.4103/0973-1229.40567\n",
    "<br><sup>9</sup> “Fact Check: Post Comparing Responses to Tuberculosis and COVID-19 Pandemics Lacks Key Information.” *Reuters*, Thomson Reuters, 19 Aug. 2020, [www.reuters.com/article/uk-factcheck-covid-tb/fact-check-post-comparing-responses-to-tuberculosis-and-covid-19-pandemics-lacks-key-information-idUSKCN25F16X](https://www.reuters.com/article/uk-factcheck-covid-tb/fact-check-post-comparing-responses-to-tuberculosis-and-covid-19-pandemics-lacks-key-information-idUSKCN25F16X) \n",
    "<br><sup>10</sup> Inflab. “Is GDP a Good Measure of Economic Well-Being?” *Medium*, Medium, 9 July 2018, [medium.com/@Inflab/is-gdp-a-good-measure-of-economic-well-being-7ad449ded139#:~:text=GDP%20measures%20both%20the%20economy's,expenditure%20on%20goods%20and%20services.&amp;text=Because%20most%20people%20would%20prefer,being%20of%20the%20average%20individual](medium.com/@Inflab/is-gdp-a-good-measure-of-economic-well-being-7ad449ded139#:~:text=GDP%20measures%20both%20the%20economy's,expenditure%20on%20goods%20and%20services.&amp;text=Because%20most%20people%20would%20prefer,being%20of%20the%20average%20individual) \n",
    "<br><sup>11</sup> “List of Countries by Leading Trade Partners.” *Wikipedia*, Wikimedia Foundation, 11 Feb. 2021, [en.wikipedia.org/wiki/List_of_countries_by_leading_trade_partners](en.wikipedia.org/wiki/List_of_countries_by_leading_trade_partners) "
   ]
  },
  {
   "cell_type": "code",
   "execution_count": null,
   "id": "9f36e995",
   "metadata": {},
   "outputs": [],
   "source": []
  }
 ],
 "metadata": {
  "kernelspec": {
   "display_name": "Python 3",
   "language": "python",
   "name": "python3"
  },
  "language_info": {
   "codemirror_mode": {
    "name": "ipython",
    "version": 3
   },
   "file_extension": ".py",
   "mimetype": "text/x-python",
   "name": "python",
   "nbconvert_exporter": "python",
   "pygments_lexer": "ipython3",
   "version": "3.9.2"
  }
 },
 "nbformat": 4,
 "nbformat_minor": 5
}
