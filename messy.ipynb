{
 "cells": [
  {
   "cell_type": "markdown",
   "id": "refined-sunset",
   "metadata": {},
   "source": [
    "- Initially wanted to look at types of food datasets\n",
    "- Then wanted to compare food inspection violations to timeline of covid, but enough finding data is matching locations proved to be somewhat difficult\n",
    "- Finding food data to relate to covid seemed to scare, or not widespread enough, so I left that idea"
   ]
  },
  {
   "cell_type": "code",
   "execution_count": null,
   "id": "successful-footwear",
   "metadata": {},
   "outputs": [],
   "source": []
  }
 ],
 "metadata": {
  "kernelspec": {
   "display_name": "Python 3",
   "language": "python",
   "name": "python3"
  },
  "language_info": {
   "codemirror_mode": {
    "name": "ipython",
    "version": 3
   },
   "file_extension": ".py",
   "mimetype": "text/x-python",
   "name": "python",
   "nbconvert_exporter": "python",
   "pygments_lexer": "ipython3",
   "version": "3.9.1"
  }
 },
 "nbformat": 4,
 "nbformat_minor": 5
}
