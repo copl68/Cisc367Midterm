{
 "cells": [
  {
   "cell_type": "markdown",
   "id": "religious-ukraine",
   "metadata": {},
   "source": [
    "## Covid-19 Vaccine Distribution: *Worldwide Edition*"
   ]
  },
  {
   "cell_type": "markdown",
   "id": "toxic-curve",
   "metadata": {},
   "source": [
    "#### Societal Problem"
   ]
  },
  {
   "cell_type": "markdown",
   "id": "accurate-homework",
   "metadata": {},
   "source": [
    "The issue of the Coronavirus pandemic is one that the entire world is not only extremely aware of, but one that has greatly impacted the lives of most. With development of effective vaccines, countries around the world are working to deliver vaccines to their residents as efficiently as possible. However, every country may not have equal access to the vaccine, and well-to-do countries may have much easier access to the vaccine than their less well-off counterparts. Insight into vaccine distribution among different countries could potentially highlight a problem of inequalities of Covid-19 vaccine distributions across the world."
   ]
  },
  {
   "cell_type": "markdown",
   "id": "appreciated-source",
   "metadata": {},
   "source": [
    "#### Problem Justification"
   ]
  },
  {
   "cell_type": "markdown",
   "id": "indie-pastor",
   "metadata": {},
   "source": [
    "Receiving the Covid vaccine is vital in protecting against Covid-19, just like how the flu vaccine is vital\n",
    "to avoid contraction of the flu. More vaccines will lead to less people contracting Covid, thus dramatically reducing the \n",
    "spread. According to the Centers for Disease Control and Prevention, \"COVID-19 vaccination will be an important tool to\n",
    "help stop the pandemic.\" <sup>1</sup> "
   ]
  },
  {
   "cell_type": "markdown",
   "id": "located-congress",
   "metadata": {},
   "source": [
    "However, vaccines must be bought before they can be distributed, which can make it more difficult to obtain in poorer countries. As a result, Covid may remain a continuous problem in those areas. The obvious impact of Covid's continued existence is the detrimental health effects. The virus has caused almost 2.82 million deaths worldwide as of April 1st, 2021, however has infected almost 130 Million people worldwide.<sup>2</sup> Commonly observed effects of the virus include, but are not limited to, fever, cough, fatigue, and nausea<sup>3</sup>, however there is no way to be sure of the long term effects of the virus. In fact, studies have begun to find evidence of hidden neurological long term effects of Covid-19. Harvard studies have found that some individuals who have recovered from the virus show impaired attention ability, likely due to oxygen deprevation in the brain, which leads to minor brain damage. Covid infection may also lead to higher risk of alzheimers in the future. <sup>4</sup> "
   ]
  },
  {
   "cell_type": "markdown",
   "id": "atmospheric-integer",
   "metadata": {},
   "source": [
    "In additon to health risks, Coronavirus has posed as a major risk to the global economy. Travel and tourism industries have suffered due to lockdowns\n",
    "in many parts of the world. Airlines experienced a large dropoff in revenue due to the fact that there is very little need for flights during a pandemic. <sup>5</sup> Additionally, countries with economies that heavily depend on tourism, such as Jamaica, have seen dramatic declines in their economy. <sup>6</sup> Equally as important, there has been a decline in consumer demand for products due to the fact that so many places have some type of lockdown enforced. This decrease in demand has led to cuts in the number of workers in an effort to optimize company revenue, resulting in increased global unemployment and a $3.5 trillion loss in global income. <sup>7</sup>"
   ]
  },
  {
   "cell_type": "markdown",
   "id": "hazardous-advocate",
   "metadata": {},
   "source": [
    "It is obvious that mitigating these detrimental effects of Covid-19 is important for not only global health, but also the global economy. By exploring possible sources of vaccine distribution inequalities, we can gain some insight into the patterns of global vaccine distribution. "
   ]
  },
  {
   "cell_type": "markdown",
   "id": "recovered-conviction",
   "metadata": {},
   "source": [
    "#### Research Questions"
   ]
  },
  {
   "cell_type": "markdown",
   "id": "multiple-allocation",
   "metadata": {},
   "source": [
    "- How even is the current distribution of vaccines across all countries?\n",
    "- Is there any relationship between economic indicators, such as GDP  \n",
    "    and unemployment rate, and the amount of vaccines distributed within a given country?"
   ]
  },
  {
   "cell_type": "markdown",
   "id": "monetary-desperate",
   "metadata": {},
   "source": [
    "Gross Domestic Product (GDP) is a good metric due to the fact that it measures the monetary value of goods and services produced within a country. This provides an easily accessible metric for each country in question and is especially appropriate because we want to determine how vaccine distribution depends on the economic well-being of a country, which is well expressed by GDP.<sup>10</sup> In turn, unemployment rates can be helpful factors in determining the health of an economy.<sup>7</sup> It is important to consider these factors for the entire world rather than just a specific country because of the nature of Covid-19. The virus has impacted the entire globe and shut down international travel and had detrimental effects on the world economy because countries rely on each other for trading.<sup>11</sup> Looking at specific countries would not suffice because of how connected countries are to each other. A solution to stopping the spread of Covid-19 will have to consider the entire globe. "
   ]
  },
  {
   "cell_type": "markdown",
   "id": "possible-dealer",
   "metadata": {},
   "source": [
    "Identifying if there is a relationship between vaccine distribution and economic indicators could help determine ways to stop the spread of Covid-19.\n",
    "The importance of stoping the spread of Covid-19 is clear, and by determining where vaccine distribution is weaker than other countries, efforts can be made to make vaccines more readily available for individuals within those areas. "
   ]
  },
  {
   "cell_type": "markdown",
   "id": "wrong-defensive",
   "metadata": {},
   "source": [
    "#### Datasets"
   ]
  },
  {
   "cell_type": "markdown",
   "id": "secondary-championship",
   "metadata": {},
   "source": [
    "[**Country Vaccinations**](https://www.kaggle.com/gpreda/covid-world-vaccination-progress) - \n",
    "(Updated March 14th, 2021) This dataset provides vaccination information such as vaccination brand, date, total vaccinations, total people fully vaccinated for a total of 136 different countries. Similar information is available in terms of percentages rather that total numbers. We will be concerned with the total count data so that we are fair when comparing countries of greatly different population sizes. Original data comes from [Our World in Data](https://github.com/owid/covid-19-data)\n",
    "<br><br> [**Economic Freedom Index**](https://www.kaggle.com/lewisduncan93/the-economic-freedom-index) - (Updated February 26, 2019) This dataset provides lots of data regarding government spending, variations of GDP, unemployment, and numerous measures of freedom, such as business, labor, monetary, and trade freedom, for 186 different countries. We will concern ourselves with country name, GDP, and unemployment rate. Original data comes from [The Heritage Foundation](https://www.heritage.org/index)"
   ]
  },
  {
   "cell_type": "markdown",
   "id": "geographic-bulgaria",
   "metadata": {},
   "source": [
    "#### Data Exploration"
   ]
  },
  {
   "cell_type": "code",
   "execution_count": 104,
   "id": "catholic-holiday",
   "metadata": {},
   "outputs": [],
   "source": [
    "#Setup and imports\n",
    "import pandas as pd\n",
    "import numpy as np\n",
    "import matplotlib.pyplot as plt\n",
    "from scipy import stats\n",
    "\n",
    "vac_raw = pd.read_csv('data/country_vaccinations.csv')\n",
    "econ_raw = pd.read_csv('data/economic_freedom_index2019_data.csv', encoding='latin-1')"
   ]
  },
  {
   "cell_type": "markdown",
   "id": "silent-third",
   "metadata": {},
   "source": [
    "##### Setup vaccination and economic factors dataframes"
   ]
  },
  {
   "cell_type": "code",
   "execution_count": 6,
   "id": "civil-bibliography",
   "metadata": {},
   "outputs": [],
   "source": [
    "econ = pd.DataFrame()\n",
    "econ['Country Name'] = econ_raw['Country Name']\n",
    "econ['GDP (Billions, PPP)'] = econ_raw['GDP (Billions, PPP)']\n",
    "econ['Unemployment (%)'] = econ_raw['Unemployment (%)']\n",
    "\n",
    "vac = pd.DataFrame()\n",
    "vac['country'] = vac_raw['country']\n",
    "vac['date'] = vac_raw['date']\n",
    "vac['total_vaccinations'] = vac_raw['total_vaccinations']"
   ]
  },
  {
   "cell_type": "markdown",
   "id": "annual-nevada",
   "metadata": {},
   "source": [
    "##### Observe last reported dates for each country"
   ]
  },
  {
   "cell_type": "code",
   "execution_count": 16,
   "id": "unknown-contest",
   "metadata": {},
   "outputs": [
    {
     "name": "stdout",
     "output_type": "stream",
     "text": [
      "From:  2021-01-18 00:00:00  to  2021-03-14 00:00:00\n"
     ]
    },
    {
     "data": {
      "text/plain": [
       "country\n",
       "Albania              2021-03-12\n",
       "Algeria              2021-02-19\n",
       "Andorra              2021-03-10\n",
       "Angola               2021-03-08\n",
       "Anguilla             2021-02-26\n",
       "Argentina            2021-03-14\n",
       "Australia            2021-03-14\n",
       "Austria              2021-03-13\n",
       "Azerbaijan           2021-03-14\n",
       "Bahrain              2021-03-14\n",
       "Bangladesh           2021-03-14\n",
       "Barbados             2021-03-12\n",
       "Belarus              2021-02-18\n",
       "Belgium              2021-03-13\n",
       "Belize               2021-03-12\n",
       "Bermuda              2021-03-10\n",
       "Bolivia              2021-03-14\n",
       "Brazil               2021-03-14\n",
       "Bulgaria             2021-03-14\n",
       "Cambodia             2021-03-14\n",
       "Canada               2021-03-14\n",
       "Cayman Islands       2021-03-12\n",
       "Chile                2021-03-14\n",
       "China                2021-02-28\n",
       "Colombia             2021-03-13\n",
       "Costa Rica           2021-03-12\n",
       "Cote d'Ivoire        2021-03-14\n",
       "Croatia              2021-03-12\n",
       "Cyprus               2021-03-07\n",
       "Czechia              2021-03-14\n",
       "Denmark              2021-03-13\n",
       "Dominica             2021-03-01\n",
       "Dominican Republic   2021-03-11\n",
       "Ecuador              2021-03-13\n",
       "Egypt                2021-01-30\n",
       "Name: date, dtype: datetime64[ns]"
      ]
     },
     "execution_count": 16,
     "metadata": {},
     "output_type": "execute_result"
    }
   ],
   "source": [
    "#We can see a wide rande of most recent reportings for each country\n",
    "latest = vac.groupby(['country'])['date'].max().astype('datetime64') \n",
    "print(\"From: \", latest.min(), \" to \", latest.max())\n",
    "latest.head(35)"
   ]
  },
  {
   "cell_type": "code",
   "execution_count": 92,
   "id": "refined-blind",
   "metadata": {},
   "outputs": [
    {
     "data": {
      "image/png": "[encoded data removed]",
      "text/plain": [
       "<Figure size 432x288 with 1 Axes>"
      ]
     },
     "metadata": {
      "needs_background": "light"
     },
     "output_type": "display_data"
    }
   ],
   "source": [
    "#Get all of the dates within our range of January 18th to March 14th\n",
    "start = pd.to_datetime('2021-01-18')\n",
    "end = pd.to_datetime('2021-03-14')\n",
    "dates = pd.date_range(start,end,freq='D')\n",
    "dates_axis = pd.Series([t.strftime('%Y%m%d') for t in dates]).apply(lambda x: pd.to_datetime(x))\n",
    "dates_axis = list(dates_axis.apply(lambda x: str(x)[:10]))\n",
    "\n",
    "#For each date, find the number of countris that last reported on this day\n",
    "count = latest.groupby([latest.dt.year, latest.dt.month, latest.dt.day]).count()\n",
    "levels = [count.index.levels[0].values, count.index.levels[1].values, range(32)]\n",
    "new_index = pd.MultiIndex.from_product(levels, names=count.index.names)[18:-17]\n",
    "new_index = new_index.drop((2021, 2, 29))\n",
    "new_index = new_index.drop((2021, 2, 30))\n",
    "new_index = new_index.drop((2021, 2, 31))\n",
    "new_index = new_index.drop((2021, 2, 0))\n",
    "new_index = new_index.drop((2021, 3, 0))\n",
    "count = count.reindex(new_index, fill_value=0)\n",
    "\n",
    "#Plot the distribution of last-reported dates\n",
    "plt.bar(dates_axis,list(count), color='chocolate')\n",
    "plt.title('Distribution of Latest Reported Dates across Countries')\n",
    "plt.xlabel('Date')\n",
    "plt.ylabel('Number of countries')\n",
    "plt.xticks(['2021-01-18', '2021-02-01', '2021-02-15', '2021-03-01', '2021-03-14'])\n",
    "plt.show()"
   ]
  },
  {
   "cell_type": "code",
   "execution_count": 24,
   "id": "familiar-cliff",
   "metadata": {},
   "outputs": [
    {
     "name": "stdout",
     "output_type": "stream",
     "text": [
      "Percent of countries in March:  0.84\n"
     ]
    }
   ],
   "source": [
    "#Percent of countries with dates on/after March 1st\n",
    "print(\"Percent of countries in March: \", round(latest[latest >= '2021-03-01'].count()/latest.count(),2))    "
   ]
  },
  {
   "cell_type": "markdown",
   "id": "polar-israel",
   "metadata": {},
   "source": [
    "The fact that the last reported dates are so far apart may cause some issues. It would be unfair to compare two countries if the date of their last reported data is two months apart. \n",
    "<br><br>One option would be to look at the data from each country on January 18th, however this would mean ignoring almost two months of important data. \n",
    "<br><br>A better option may be to only look at countries with later report dates. If we look at countries with dates between March 1st and March 14th, we can still observe 84% of the given data"
   ]
  },
  {
   "cell_type": "code",
   "execution_count": 26,
   "id": "closing-fraud",
   "metadata": {},
   "outputs": [
    {
     "data": {
      "text/html": [
       "<div>\n",
       "<style scoped>\n",
       "    .dataframe tbody tr th:only-of-type {\n",
       "        vertical-align: middle;\n",
       "    }\n",
       "\n",
       "    .dataframe tbody tr th {\n",
       "        vertical-align: top;\n",
       "    }\n",
       "\n",
       "    .dataframe thead th {\n",
       "        text-align: right;\n",
       "    }\n",
       "</style>\n",
       "<table border=\"1\" class=\"dataframe\">\n",
       "  <thead>\n",
       "    <tr style=\"text-align: right;\">\n",
       "      <th></th>\n",
       "      <th>country</th>\n",
       "      <th>date</th>\n",
       "      <th>total_vaccinations</th>\n",
       "    </tr>\n",
       "  </thead>\n",
       "  <tbody>\n",
       "    <tr>\n",
       "      <th>0</th>\n",
       "      <td>Albania</td>\n",
       "      <td>2021-03-12</td>\n",
       "      <td>23635.0</td>\n",
       "    </tr>\n",
       "    <tr>\n",
       "      <th>1</th>\n",
       "      <td>Andorra</td>\n",
       "      <td>2021-03-10</td>\n",
       "      <td>4914.0</td>\n",
       "    </tr>\n",
       "    <tr>\n",
       "      <th>2</th>\n",
       "      <td>Angola</td>\n",
       "      <td>2021-03-08</td>\n",
       "      <td>6169.0</td>\n",
       "    </tr>\n",
       "    <tr>\n",
       "      <th>3</th>\n",
       "      <td>Argentina</td>\n",
       "      <td>2021-03-14</td>\n",
       "      <td>2381429.0</td>\n",
       "    </tr>\n",
       "    <tr>\n",
       "      <th>4</th>\n",
       "      <td>Australia</td>\n",
       "      <td>2021-03-14</td>\n",
       "      <td>162551.0</td>\n",
       "    </tr>\n",
       "    <tr>\n",
       "      <th>5</th>\n",
       "      <td>Austria</td>\n",
       "      <td>2021-03-13</td>\n",
       "      <td>1026244.0</td>\n",
       "    </tr>\n",
       "    <tr>\n",
       "      <th>6</th>\n",
       "      <td>Azerbaijan</td>\n",
       "      <td>2021-03-14</td>\n",
       "      <td>453586.0</td>\n",
       "    </tr>\n",
       "    <tr>\n",
       "      <th>7</th>\n",
       "      <td>Bahrain</td>\n",
       "      <td>2021-03-14</td>\n",
       "      <td>551197.0</td>\n",
       "    </tr>\n",
       "    <tr>\n",
       "      <th>8</th>\n",
       "      <td>Bangladesh</td>\n",
       "      <td>2021-03-14</td>\n",
       "      <td>4398094.0</td>\n",
       "    </tr>\n",
       "    <tr>\n",
       "      <th>9</th>\n",
       "      <td>Barbados</td>\n",
       "      <td>2021-03-12</td>\n",
       "      <td>50980.0</td>\n",
       "    </tr>\n",
       "    <tr>\n",
       "      <th>10</th>\n",
       "      <td>Belgium</td>\n",
       "      <td>2021-03-13</td>\n",
       "      <td>1145988.0</td>\n",
       "    </tr>\n",
       "    <tr>\n",
       "      <th>11</th>\n",
       "      <td>Belize</td>\n",
       "      <td>2021-03-12</td>\n",
       "      <td>7444.0</td>\n",
       "    </tr>\n",
       "    <tr>\n",
       "      <th>12</th>\n",
       "      <td>Bermuda</td>\n",
       "      <td>2021-03-10</td>\n",
       "      <td>27727.0</td>\n",
       "    </tr>\n",
       "    <tr>\n",
       "      <th>13</th>\n",
       "      <td>Bolivia</td>\n",
       "      <td>2021-03-14</td>\n",
       "      <td>138218.0</td>\n",
       "    </tr>\n",
       "    <tr>\n",
       "      <th>14</th>\n",
       "      <td>Brazil</td>\n",
       "      <td>2021-03-14</td>\n",
       "      <td>11422666.0</td>\n",
       "    </tr>\n",
       "    <tr>\n",
       "      <th>15</th>\n",
       "      <td>Bulgaria</td>\n",
       "      <td>2021-03-14</td>\n",
       "      <td>338879.0</td>\n",
       "    </tr>\n",
       "    <tr>\n",
       "      <th>16</th>\n",
       "      <td>Cambodia</td>\n",
       "      <td>2021-03-14</td>\n",
       "      <td>170659.0</td>\n",
       "    </tr>\n",
       "    <tr>\n",
       "      <th>17</th>\n",
       "      <td>Canada</td>\n",
       "      <td>2021-03-14</td>\n",
       "      <td>3026665.0</td>\n",
       "    </tr>\n",
       "    <tr>\n",
       "      <th>18</th>\n",
       "      <td>Cayman Islands</td>\n",
       "      <td>2021-03-12</td>\n",
       "      <td>31980.0</td>\n",
       "    </tr>\n",
       "    <tr>\n",
       "      <th>19</th>\n",
       "      <td>Chile</td>\n",
       "      <td>2021-03-14</td>\n",
       "      <td>6591788.0</td>\n",
       "    </tr>\n",
       "  </tbody>\n",
       "</table>\n",
       "</div>"
      ],
      "text/plain": [
       "           country        date  total_vaccinations\n",
       "0          Albania  2021-03-12             23635.0\n",
       "1          Andorra  2021-03-10              4914.0\n",
       "2           Angola  2021-03-08              6169.0\n",
       "3        Argentina  2021-03-14           2381429.0\n",
       "4        Australia  2021-03-14            162551.0\n",
       "5          Austria  2021-03-13           1026244.0\n",
       "6       Azerbaijan  2021-03-14            453586.0\n",
       "7          Bahrain  2021-03-14            551197.0\n",
       "8       Bangladesh  2021-03-14           4398094.0\n",
       "9         Barbados  2021-03-12             50980.0\n",
       "10         Belgium  2021-03-13           1145988.0\n",
       "11          Belize  2021-03-12              7444.0\n",
       "12         Bermuda  2021-03-10             27727.0\n",
       "13         Bolivia  2021-03-14            138218.0\n",
       "14          Brazil  2021-03-14          11422666.0\n",
       "15        Bulgaria  2021-03-14            338879.0\n",
       "16        Cambodia  2021-03-14            170659.0\n",
       "17          Canada  2021-03-14           3026665.0\n",
       "18  Cayman Islands  2021-03-12             31980.0\n",
       "19           Chile  2021-03-14           6591788.0"
      ]
     },
     "execution_count": 26,
     "metadata": {},
     "output_type": "execute_result"
    }
   ],
   "source": [
    "#Remove all  entries with dates before march\n",
    "vac = vac[vac['date'] >= '2021-03-01']        \n",
    "#Remore all entries with NaN total vaccination count\n",
    "vac = vac.drop(vac[vac['total_vaccinations'].isnull()].index.values)  \n",
    "#Keep the last date for each country\n",
    "vac = vac.drop_duplicates(['country'], keep='last')\n",
    "vac = vac.reset_index()\n",
    "vac = vac.drop(['index'], axis=1)\n",
    "vac.head(20)"
   ]
  },
  {
   "cell_type": "markdown",
   "id": "consecutive-filing",
   "metadata": {},
   "source": [
    "Now we have a list of countries along with their most recent data report date and total vaccinations given"
   ]
  },
  {
   "cell_type": "markdown",
   "id": "lined-inspiration",
   "metadata": {},
   "source": [
    "##### Observe total vaccination distribution"
   ]
  },
  {
   "cell_type": "code",
   "execution_count": 93,
   "id": "amateur-recipient",
   "metadata": {},
   "outputs": [
    {
     "data": {
      "image/png": "[encoded data removed]",
      "text/plain": [
       "<Figure size 432x288 with 1 Axes>"
      ]
     },
     "metadata": {
      "needs_background": "light"
     },
     "output_type": "display_data"
    },
    {
     "data": {
      "text/plain": [
       "count    114.000000\n",
       "mean       2.910631\n",
       "std       10.886642\n",
       "min        0.001215\n",
       "25%        0.040812\n",
       "50%        0.256012\n",
       "75%        1.253572\n",
       "max      107.060274\n",
       "Name: total_vaccinations, dtype: float64"
      ]
     },
     "execution_count": 93,
     "metadata": {},
     "output_type": "execute_result"
    }
   ],
   "source": [
    "plt.hist(vac['total_vaccinations'].apply(lambda x: x/1000000), bins=25, color='green')\n",
    "plt.title(\"Histogram of Vaccines Distributed (in Millions)\")\n",
    "plt.xlabel('Vaccines Distributed (in Millions)')\n",
    "plt.ylabel('Frequency')\n",
    "plt.show()\n",
    "vac['total_vaccinations'].apply(lambda x: x/1000000).describe()"
   ]
  },
  {
   "cell_type": "markdown",
   "id": "technological-attraction",
   "metadata": {},
   "source": [
    "The distribution of total vaccines given is extremely right skewed. As we can see, half of the countries have given below 250,000 vaccines and 75% of countries have given below 1,250,000 vaccines. However, there are some countries that have given a much greater amount of vaccines. "
   ]
  },
  {
   "cell_type": "code",
   "execution_count": 28,
   "id": "indonesian-percentage",
   "metadata": {},
   "outputs": [
    {
     "data": {
      "text/plain": [
       "14      11422666.0\n",
       "31      21683887.0\n",
       "107     25781120.0\n",
       "46      29908038.0\n",
       "108    107060274.0\n",
       "Name: total_vaccinations, dtype: float64"
      ]
     },
     "execution_count": 28,
     "metadata": {},
     "output_type": "execute_result"
    }
   ],
   "source": [
    "vac['total_vaccinations'].sort_values().tail()"
   ]
  },
  {
   "cell_type": "markdown",
   "id": "exterior-sudan",
   "metadata": {},
   "source": [
    "We can see from the distribution and the output above that there is one extreme outlier, which has given more than 107 million vaccines. "
   ]
  },
  {
   "cell_type": "markdown",
   "id": "regulation-growth",
   "metadata": {},
   "source": [
    "##### Who is the Outlier?"
   ]
  },
  {
   "cell_type": "code",
   "execution_count": 29,
   "id": "earlier-scholarship",
   "metadata": {},
   "outputs": [
    {
     "data": {
      "text/plain": [
       "'United States'"
      ]
     },
     "execution_count": 29,
     "metadata": {},
     "output_type": "execute_result"
    }
   ],
   "source": [
    "max = vac['total_vaccinations'].dropna().max()    \n",
    "vac['country'][vac['total_vaccinations'] == max].values[0]"
   ]
  },
  {
   "cell_type": "markdown",
   "id": "bronze-expression",
   "metadata": {},
   "source": [
    "The United States is the outlier with over 107 million vaccines. Let's remove the US for a second to try and get insight into the rest of the data."
   ]
  },
  {
   "cell_type": "markdown",
   "id": "composite-wesley",
   "metadata": {},
   "source": [
    "##### Observing Vaccine Distribution without the United States"
   ]
  },
  {
   "cell_type": "code",
   "execution_count": 94,
   "id": "acknowledged-belize",
   "metadata": {},
   "outputs": [
    {
     "data": {
      "image/png": "[encoded data removed]",
      "text/plain": [
       "<Figure size 432x288 with 1 Axes>"
      ]
     },
     "metadata": {
      "needs_background": "light"
     },
     "output_type": "display_data"
    },
    {
     "name": "stdout",
     "output_type": "stream",
     "text": [
      "count    113.000000\n",
      "mean       1.988952\n",
      "std        4.676598\n",
      "min        0.001215\n",
      "25%        0.039428\n",
      "50%        0.254000\n",
      "75%        1.163873\n",
      "max       29.908038\n",
      "Name: total_vaccinations, dtype: float64\n",
      "\n",
      "Next highest:  India\n"
     ]
    }
   ],
   "source": [
    "#Now without the US\n",
    "tot_vac = vac['total_vaccinations'].apply(lambda x: int(float(x)))\n",
    "plt.hist(tot_vac.sort_values()[:-1].apply(lambda x: x/1000000), bins=25, color='green')\n",
    "#vac['total_vaccinations'].apply(lambda x: x/1000)\n",
    "plt.title(\"Histogram of Vaccines Distributed w/o the United States (in Millions)\")\n",
    "plt.xlabel('Vaccines Distributed (in Millions)')\n",
    "plt.ylabel('Frequency')\n",
    "plt.show()\n",
    "print(tot_vac.sort_values()[:-1].apply(lambda x: x/1000000).describe())\n",
    "max = tot_vac.sort_values()[:-1].dropna().max()    \n",
    "print(\"\\nNext highest: \", vac['country'][vac['total_vaccinations'] == max].values[0])"
   ]
  },
  {
   "cell_type": "markdown",
   "id": "satisfactory-compensation",
   "metadata": {},
   "source": [
    "Even after removing the United States as out outlier, the data is still extremely right skewed. The distribution still has very similar characteristics to the one including the US, except now, the maximum is about 30 million vaccines. "
   ]
  },
  {
   "cell_type": "markdown",
   "id": "handled-honor",
   "metadata": {},
   "source": [
    "##### **Answering our First Question**"
   ]
  },
  {
   "cell_type": "markdown",
   "id": "humanitarian-journalist",
   "metadata": {},
   "source": [
    "  - How even is the current distribution of vaccines across all countries?"
   ]
  },
  {
   "cell_type": "markdown",
   "id": "fancy-pressing",
   "metadata": {},
   "source": [
    "From the distribution, we can see that the distribution of total vaccines distributed per country is extremely right skewed. 75% of countries have administered below 1.25 Million vaccines as of March 14th, 2021. There is one country which is a great outlier with about 107 Million vaccine distributions, which is the United States.\n",
    "\n",
    "After removing the United States at 107M total vaccinations, we can see that the data is still heavily right skewed. The next highest number of vaccinations after the United States is around 30M in India, which is a large difference. After removing the United States, we can see that 75% of data is now below 1.16 Million vaccines. \n",
    "\n",
    "Overall, we can see that the distribution of Covid-19 vaccines is dramatically uneven across the globe. While some countries have very high numbers of vaccine totals when compared to other countries, the vast majority of countries have given below 1.25 Million vaccines within their country, resulting in a heavily right skewed distribution. However, we should be careful when applying this generalization since our data only included 114 out of 195 countries in the world. It is possible for the missing countries to share commonalities that the observed countries do not, so at this point, our findings should apply to the observed set of countries only. "
   ]
  },
  {
   "cell_type": "markdown",
   "id": "mediterranean-adult",
   "metadata": {},
   "source": [
    "##### Log Transform Vaccine Distribution"
   ]
  },
  {
   "cell_type": "markdown",
   "id": "attempted-knowing",
   "metadata": {},
   "source": [
    "We will ultimately make a scatterplot with total vaccines distributed as a variable, so lets see if we can make the distribution look more normal through a logarithm transformation. "
   ]
  },
  {
   "cell_type": "code",
   "execution_count": 95,
   "id": "approved-slovenia",
   "metadata": {},
   "outputs": [
    {
     "data": {
      "image/png": "[encoded data removed]",
      "text/plain": [
       "<Figure size 432x288 with 1 Axes>"
      ]
     },
     "metadata": {
      "needs_background": "light"
     },
     "output_type": "display_data"
    },
    {
     "name": "stdout",
     "output_type": "stream",
     "text": [
      "Since the p-value is 0.47, which is greater than .05, we can accept the null hypothesis that the data now approximately follows a normal distribution\n"
     ]
    }
   ],
   "source": [
    "plt.hist(np.log10(tot_vac), bins = 15, color='green')     \n",
    "plt.title('Histogram of log(total vaccines) per country')\n",
    "plt.xlabel('log(total vaccines)')\n",
    "plt.ylabel('Frequency')\n",
    "plt.show()\n",
    "\n",
    "#Shapiro Wilk test for normality\n",
    "test_stat, p_val = stats.shapiro(np.log10(tot_vac))\n",
    "print(\"Since the p-value is\", str(round(p_val,2)) + \", which is greater than .05, we can accept the null hypothesis that the data now approximately follows a normal distribution\")"
   ]
  },
  {
   "cell_type": "markdown",
   "id": "resistant-slovenia",
   "metadata": {},
   "source": [
    "##### Observe distribution of Country GDP"
   ]
  },
  {
   "cell_type": "code",
   "execution_count": 53,
   "id": "chief-appointment",
   "metadata": {},
   "outputs": [],
   "source": [
    "gdps = [[x, econ[econ['Country Name'] == x]['GDP (Billions, PPP)']] for x in vac['country']]\n",
    "\n",
    "#Oh no! The united kingdom is split up into Northern Ireland, Scotland, Wales, and England\n",
    "#A few other places are formatted differently, so I'll go back manually or look them up\n",
    "pd.Series(gdps)\n",
    "gdps[1][1] = ['$3.2']       #Andorra\n",
    "gdps[12][1] = ['$7.5']      #Bermuda\n",
    "gdps[18][1] = ['$5.5']      #Cayman Islands\n",
    "gdps[22][1] = ['$96.9']     #Cote d'Ivoire\n",
    "gdps[25][1] = ['$250.7']    #Czechia\n",
    "gdps[31][1] = ['$2,500']    #England\n",
    "gdps[33][1] = ['$3.1']      #Faeroe Islands\n",
    "gdps[38][1] = ['$3.2']      #Gibraltar\n",
    "gdps[40][1] = ['$3.1']      #Greenland\n",
    "gdps[42][1] = ['$3.5']      #Guernsey\n",
    "gdps[49][1] = ['$7.5']      #Isleof Man\n",
    "gdps[53][1] = ['$6.6']      #Jersey\n",
    "gdps[58][1] = ['$6.5']      #Liechtenstein\n",
    "gdps[61][1] = ['$53.9']     #Macao\n",
    "gdps[72][1] = ['$63.5']     #Northern Ireland\n",
    "gdps[86][1] = ['$1.7']      #San Marino\n",
    "gdps[88][1] = ['$205']      #Scotland\n",
    "gdps[96][1] = ['$2,029.0']  #South Korea\n",
    "gdps[112][1] = ['$103.7']   #Wales\n",
    "\n",
    "#Reformat the GDPs\n",
    "realgdps = pd.Series(gdps).apply(lambda x: list(x[1])[0].replace('$','').replace(',', '').strip())\n",
    "realgdps = realgdps.apply(lambda x: float(x))"
   ]
  },
  {
   "cell_type": "code",
   "execution_count": 96,
   "id": "reflected-operations",
   "metadata": {},
   "outputs": [
    {
     "data": {
      "image/png": "[encoded data removed]",
      "text/plain": [
       "<Figure size 432x288 with 1 Axes>"
      ]
     },
     "metadata": {
      "needs_background": "light"
     },
     "output_type": "display_data"
    }
   ],
   "source": [
    "plt.hist(realgdps, bins = 15, color='magenta')\n",
    "plt.title('Histogram of Total GDP per country')\n",
    "plt.xlabel('Total GDP')\n",
    "plt.ylabel('Frequency')\n",
    "plt.show()"
   ]
  },
  {
   "cell_type": "markdown",
   "id": "attempted-throat",
   "metadata": {},
   "source": [
    "Once again, we can see that GDP data across all observed countries is very right skewed. "
   ]
  },
  {
   "cell_type": "markdown",
   "id": "atlantic-palestine",
   "metadata": {},
   "source": [
    "##### Log transform GDP distribution"
   ]
  },
  {
   "cell_type": "markdown",
   "id": "behind-greece",
   "metadata": {},
   "source": [
    "Lets see if we can make the data look more normal through a logarithm distribution"
   ]
  },
  {
   "cell_type": "code",
   "execution_count": 97,
   "id": "regular-marsh",
   "metadata": {},
   "outputs": [
    {
     "data": {
      "image/png": "[encoded data removed]",
      "text/plain": [
       "<Figure size 432x288 with 1 Axes>"
      ]
     },
     "metadata": {
      "needs_background": "light"
     },
     "output_type": "display_data"
    },
    {
     "name": "stdout",
     "output_type": "stream",
     "text": [
      "p-value:  0.0475\n"
     ]
    }
   ],
   "source": [
    "plt.hist(np.log10(realgdps), bins = 15, color='magenta')\n",
    "test_stat, p_val = stats.shapiro(np.log10(realgdps))\n",
    "plt.title('Histogram of log(total GDP) per country')\n",
    "plt.xlabel('log(total GDP)')\n",
    "plt.ylabel('Frequency')\n",
    "plt.show()\n",
    "\n",
    "#Shapiro Wilk test for normality\n",
    "test_stat, p_val = stats.shapiro(np.log10(realgdps))\n",
    "print(\"p-value: \", round(p_val,4))"
   ]
  },
  {
   "cell_type": "markdown",
   "id": "speaking-clear",
   "metadata": {},
   "source": [
    "The p-value is rather small and less than .05, so we should **reject** the null hypothesis that this distribution approximately follows a normal distribution. However, this distribution is still much closer to normal than the non-transformed distribution is. "
   ]
  },
  {
   "cell_type": "markdown",
   "id": "successful-retail",
   "metadata": {},
   "source": [
    "##### Observe Distribution of Country Unemployment Rates"
   ]
  },
  {
   "cell_type": "code",
   "execution_count": 73,
   "id": "signed-influence",
   "metadata": {},
   "outputs": [],
   "source": [
    "emp = econ['Unemployment (%)']\n",
    "emp = [[x, econ[econ['Country Name'] == x]['Unemployment (%)']] for x in vac['country']]\n",
    "\n",
    "#Again, data was either missing or formatted incorrectly, so we must fill in the missing values\n",
    "pd.Series(emp)\n",
    "emp[1][1] = ['1.7']       #Andorra\n",
    "emp[12][1] = ['6']        #Bermuda\n",
    "emp[18][1] = ['3.4']      #Cayman Islands\n",
    "emp[22][1] = ['3.21']     #Cote d'Ivoire\n",
    "emp[25][1] = ['2.24']     #Czechia\n",
    "emp[27][1] = ['5.74']     #Dominica\n",
    "emp[31][1] = ['4.2']      #England\n",
    "emp[33][1] = ['2.1']      #Faeroe Islands\n",
    "emp[38][1] = ['1']        #Gibraltar\n",
    "emp[40][1] = ['2.4']      #Greenland\n",
    "emp[42][1] = ['1.7']      #Guernsey\n",
    "emp[49][1] = ['1.8']      #Isle of Man\n",
    "emp[53][1] = ['1.6']      #Jersey\n",
    "emp[58][1] = ['1.6']      #Liechtenstein\n",
    "emp[61][1] = ['1.8']      #Macao\n",
    "emp[72][1] = ['3.9']      #Northern Ireland\n",
    "emp[86][1] = ['8']        #San Marino\n",
    "emp[88][1] = ['4.3']      #Scotland\n",
    "emp[91][1] = ['3']        #Seychelles\n",
    "emp[96][1] = ['3.7']      #South Korea\n",
    "emp[112][1] = ['4.5']     #Wales\n",
    "emp = pd.Series(emp).apply(lambda x: float(list(x[1])[0].strip()))"
   ]
  },
  {
   "cell_type": "code",
   "execution_count": 100,
   "id": "prescribed-lounge",
   "metadata": {},
   "outputs": [
    {
     "data": {
      "image/png": "[encoded data removed]",
      "text/plain": [
       "<Figure size 432x288 with 1 Axes>"
      ]
     },
     "metadata": {
      "needs_background": "light"
     },
     "output_type": "display_data"
    },
    {
     "name": "stdout",
     "output_type": "stream",
     "text": [
      "p-value:  4.066749437203754e-10\n"
     ]
    }
   ],
   "source": [
    "plt.hist(emp, color='purple')\n",
    "plt.title('Histogram of unemployment rates across countries')\n",
    "plt.xlabel('Unemployment Rate (%)')\n",
    "plt.ylabel('Frequency')\n",
    "plt.xticks()\n",
    "plt.show()\n",
    "\n",
    "test_stat, p_val = stats.shapiro(emp)\n",
    "print(\"p-value: \", p_val)"
   ]
  },
  {
   "cell_type": "markdown",
   "id": "metropolitan-milwaukee",
   "metadata": {},
   "source": [
    "The distribution of unemployment rates is also right skewed, although not as heavily this time. This distribution does not resemble a normal distribution, as seen by the very small p-value from the Shapiro-Wilks Normality Test."
   ]
  },
  {
   "cell_type": "markdown",
   "id": "hollywood-table",
   "metadata": {},
   "source": [
    "##### Log Transform Unemployment Rate Distribution"
   ]
  },
  {
   "cell_type": "code",
   "execution_count": 101,
   "id": "fitting-retirement",
   "metadata": {},
   "outputs": [
    {
     "data": {
      "image/png": "[encoded data removed]",
      "text/plain": [
       "<Figure size 432x288 with 1 Axes>"
      ]
     },
     "metadata": {
      "needs_background": "light"
     },
     "output_type": "display_data"
    },
    {
     "name": "stdout",
     "output_type": "stream",
     "text": [
      "p-value:  4.726912720798282e-06\n"
     ]
    }
   ],
   "source": [
    "plt.hist(np.log10(emp), color=\"purple\")\n",
    "plt.title('Histogram of log(unemployment rates (%)) across countries')\n",
    "plt.xlabel('log(Unemployment Rate)')\n",
    "plt.ylabel('Frequency')\n",
    "plt.xticks()\n",
    "plt.show()\n",
    "\n",
    "#Shapiro Wilk test for normality\n",
    "test_stat, p_val = stats.shapiro(np.log10(emp))\n",
    "print(\"p-value: \", p_val)"
   ]
  },
  {
   "cell_type": "markdown",
   "id": "isolated-temperature",
   "metadata": {},
   "source": [
    "Our distribution now appears to be left skewed. However, the p-value from the Shapiro-Wilk normality test is larger than the non-transformed distribution, so this distribution is a bit closer to a normal distribution than the non-transformed distribution of unemployment rate. "
   ]
  },
  {
   "cell_type": "markdown",
   "id": "shaped-november",
   "metadata": {},
   "source": [
    "##### Comparing Total Vaccines Distributed vs. Country GDP"
   ]
  },
  {
   "cell_type": "markdown",
   "id": "fantastic-decision",
   "metadata": {},
   "source": [
    "To observe the relationship between the total vaccines given within a country and the country's GDP, we can make a scatterplot with our data. Since the log-transformed data was more normal than the non-transformed data, we will plot the log-transformed data."
   ]
  },
  {
   "cell_type": "code",
   "execution_count": 102,
   "id": "hidden-puzzle",
   "metadata": {},
   "outputs": [
    {
     "data": {
      "image/png": "[encoded data removed]",
      "text/plain": [
       "<Figure size 432x288 with 1 Axes>"
      ]
     },
     "metadata": {
      "needs_background": "light"
     },
     "output_type": "display_data"
    }
   ],
   "source": [
    "plt.scatter(np.log10(tot_vac), np.log10(realgdps), color=\"magenta\")\n",
    "plt.title('Log(Total Vaccines) vs. Log(Total GDP) Across Countries')\n",
    "plt.xlabel('Log(Total Vaccines)')\n",
    "plt.ylabel('Log(Total GDP)')\n",
    "plt.show()"
   ]
  },
  {
   "cell_type": "code",
   "execution_count": 80,
   "id": "responsible-macro",
   "metadata": {},
   "outputs": [
    {
     "name": "stdout",
     "output_type": "stream",
     "text": [
      "0.74  :  6.559731509371865e-21\n"
     ]
    }
   ],
   "source": [
    "#Finding Spearman Correlation Coefficient\n",
    "corr, p_value = stats.spearmanr(np.log10(tot_vac), np.log10(realgdps))\n",
    "print(round(corr,2), \" : \" , p_value)"
   ]
  },
  {
   "cell_type": "markdown",
   "id": "narrative-beaver",
   "metadata": {},
   "source": [
    "The Spearman Correlation Coefficient is .74, showing a strong (approaching very strong) monotonic relationship between total vaccines distributed and country GDP. The p-value is extremely small, thus it is very unlikely that a correlation coefficient produced would be this strong if there was no correlation between total vaccines and GDP. "
   ]
  },
  {
   "cell_type": "markdown",
   "id": "secret-sweet",
   "metadata": {},
   "source": [
    "##### Comparing Total Vaccines Distributed vs. Unemployment Rate"
   ]
  },
  {
   "cell_type": "markdown",
   "id": "sunset-december",
   "metadata": {},
   "source": [
    "To observe the relationship between the total vaccines given within a country and the country's unemployment rate, we can make a scatterplot with our data. Since the log-transformed data was more normal than the non-transformed data, we will plot the log-transformed data."
   ]
  },
  {
   "cell_type": "code",
   "execution_count": 103,
   "id": "bored-bleeding",
   "metadata": {},
   "outputs": [
    {
     "data": {
      "image/png": "[encoded data removed]",
      "text/plain": [
       "<Figure size 432x288 with 1 Axes>"
      ]
     },
     "metadata": {
      "needs_background": "light"
     },
     "output_type": "display_data"
    }
   ],
   "source": [
    "plt.scatter(np.log10(tot_vac), np.log10(emp), color=\"purple\")\n",
    "plt.title('Log(Total Vaccines) vs. Log(Unemployment Rates) Across Countries')\n",
    "plt.xlabel('Log(Total Vaccines)')\n",
    "plt.ylabel('Log(Unemployment Rate (%))')\n",
    "plt.show()"
   ]
  },
  {
   "cell_type": "code",
   "execution_count": 91,
   "id": "facial-vaccine",
   "metadata": {},
   "outputs": [
    {
     "name": "stdout",
     "output_type": "stream",
     "text": [
      "0.13  :  0.175\n"
     ]
    }
   ],
   "source": [
    "corr, p_value = stats.spearmanr(np.log10(tot_vac),np.log10(emp))\n",
    "print(round(corr,2), \" : \" , round(p_value,3))"
   ]
  },
  {
   "cell_type": "markdown",
   "id": "israeli-brief",
   "metadata": {},
   "source": [
    "The Spearman Correlation Coefficient is .13, showing a very weak monotonic relationship between total vaccines distributed and country GDP. The p-value, .18, is greater than .05, meaning that it is likely that a correlation coefficient such as ours would be produced if there was no correlation between total vaccines and pre-Covid employment rates. "
   ]
  },
  {
   "cell_type": "markdown",
   "id": "front-heaven",
   "metadata": {},
   "source": [
    "##### Answering our Second Question"
   ]
  },
  {
   "cell_type": "markdown",
   "id": "printable-person",
   "metadata": {},
   "source": [
    "  - Is there any relationship between economic indicators, such as GDP and unemployment rate, and the amount of vaccines distributed within a given country?"
   ]
  },
  {
   "cell_type": "markdown",
   "id": "adopted-annual",
   "metadata": {},
   "source": [
    "After observing a scatterplot of total vaccines distributed data and country GDP data on a log transformed scale, a clear pattern emerges. There appears so be a positive correlation between a country's GDP and the total number of vaccines which they have administered. To analyze their relationship, we found the Spearman Correlation Coefficient and its associated p-value. The coefficient is .74 and the p-value is essentially 0. Our small p-value tells us that there is about a 0% chance that we would have found a coeffient of .74 is there is no correlation between country GDP and total vaccines given. The strength and direction of the relationship is determined by our coefficient, .74. This tells us that the relationship between country GDP and covid vaccines is somewhere between strong and very strong. This does not speak to the causation of the relationship, however it may spark ideas about possible hypotheses that could explain the relationship and could be tested in the future. One hypothesis may propose the idea that more vaccines are given in countries with higher GDP's because they are more likely to be able to afford the vaccines for their citizens. \n",
    "\n",
    "We can also analyze the relationship between total vaccines given and pre-Covid unemployment rates between different countries. Plotting total vaccines distributed versus country unemployment rate on a scatterplot did not yield any clear pattern. We again found a Spearman Correlation Coefficient and it associated p-value, which came out to be .13 and 0.175 respectively. The p-value is rather high and tells us that there is a 17.5% chance that we would have found a correlation coeffient of .13 if there is no relationship between country unemployment rate and total vaccines distributed. This is moderately large percentage, so we can not make any conclusions that there is a relationship between a country's pre-Covid unemployment rate and total vaccines given. \n",
    "\n",
    "Once again, we are only able to apply these findings to the countries within our dataset. We have observed only 114 out of the 195 countries in the world. From our data, we have no way of knowing whether the countries not recorded share commonalities that the countries we did observe do not have. Without knowledge of the sampling techniques or data on every country in the world, we are not able to accurately generalize our findings to all countries. Further investigation would be needed. "
   ]
  },
  {
   "cell_type": "markdown",
   "id": "based-stomach",
   "metadata": {},
   "source": [
    "##### Ethical Considerations"
   ]
  },
  {
   "cell_type": "markdown",
   "id": "foreign-prompt",
   "metadata": {},
   "source": [
    "From our data available, we have seen that countries with higher GPD's have administered higher amounts of vaccines to their citizens. This can easily put those countries with lower GDP's at a disadvantage. Despite the global pandemic, companies produce vaccines for profit, and countries with higher GDP's may have easier access to these vaccines because they have the money to pay for the limited supply of vaccines. This pattern is likely to continue until countries with higher GDP's no longer have a large demand for the vaccine. Vaccine producers would then have to consider what their next step would be, whether it be lower the price to provide the poorer countries with easier vaccine access, or abandon vaccine production and pursue another course of action that may maximizes their profit. This choice presents itself as choosing between personal gain and profit or global wellbeing, which  may help the global economy and come back to help them as well. \n",
    "\n",
    "Additionally, this data seems to highlight a pattern that will make the values of national governments of poorer nations more difficult to achieve. The fact that these countries do not administer as many vaccines as richer countries may put the government in poor social standing. Citizens and other countries may see the govenment as ineffective in performing their duty to protect its citizens. This in turn doesn't allow for citizens to acheive their goal of receiving a vaccine as quick as possible. Dependent on relationship between the dominant races within each country and a country's GDP, this inability to provide a vaccine may be mistaken for the ineffectiveness of certain races to provide for their country and create unwarrented racism. In addition, while countries with higher GDP may be able to return to their contributions to the global economy as they were before Covid, these lower GDP countries may have a more difficult time. Many of these small impacts on the global economy may sum to create a considerable impact for every other country involved. \n",
    "\n",
    "There are also reasons for concerns about the actions that may not be taken despite the relationship between total vaccined administered and GDP. If third world countries do not have easy access to Covid-19 vaccines, it could become another disease that continuously threatens third world countries, in addition to diseases such as TB, Malaria, and HIV/AIDS. <sup>8</sup> However, Covid-19 is different from these diseases in the way that it spreads. Malaria spreads through mosquitos and HIV spreads through contact of bodily fluids. Although TB does spread in a respiratory way, it requires more time of exposure to spread than Covid-19 does, meaning that Covid-19 spreads more easily. <sup>9</sup> If covid is stopped within wealthier countries and interations pick back up with poorer countries, then Covid could possibly mutate within those areas are spread back to the US, where the current vaccine may or may not protect individuals from the virus. Even within those areas of poorer countries, economies may continue to struggle as they were before a vaccine because the vaccine is not available to them, which has a negative impact on the global economy. This shows that controlling the virus is not only a humane course of action, but also has potential lingering results on the economy and future health of Americans and citizens of other countries.\n",
    "\n",
    "Regarding unemployment rates of countries before Covid, we did not find a relationship to total vaccines administered within that country. Just because we didn't find one does not necessarily mean that there isn't one. The absence of a relationship may be mistaken for the equality of all countries in gaining access to and administering a vaccine. In reality, the absense of a relationship between two factors doesn't mean there is no relationship to another factor, as seen with GDP. If these results are mistaken for equality in vaccine access, then this may incorrectly be leveraged as an excuse to not help countries that have shown low total vaccination counts. \n",
    "\n",
    "In respect to the distributions of specific variables among countries, such as their total vaccine counts, GDP, and unemployment, clear outliers may be incorrectly outed as being far superior or inferior to other countries. Outliers are clear to see in this distributions because of the skewness in the data. Outliers in the total vaccines and GDP distribution may be viewed as somehow superior to other countries. On the other hand, outliers in the unemployment rate distribution may be viewed as inferior to other countries. \n",
    "\n",
    "As seen above, it is possible for premature assumptions to be made from our data. The patterns found or not found in this analysis may serve as a good starting point for other analyses or may promote other questions, however should not be used to create assumptions without further analysis. Applying the data to real life is an important part to understanding that data, however it must be applied in a cautious and thought out manner. "
   ]
  },
  {
   "cell_type": "markdown",
   "id": "another-complaint",
   "metadata": {},
   "source": [
    "##### Sources"
   ]
  },
  {
   "cell_type": "markdown",
   "id": "guided-green",
   "metadata": {},
   "source": [
    "<sup>1</sup> Centers for Disease Control and Prevention. *Benefits of Getting a COVID-19 Vaccine.* Centers for Disease Control and Prevention. [https://www.cdc.gov/coronavirus/2019-ncov/vaccines/vaccine-benefits.html. ](https://www.cdc.gov/coronavirus/2019-ncov/vaccines/vaccine-benefits.html)\n",
    "<br><sup>2</sup> “COVID-19 Dashboard by the Center for Systems Science and Engineering (CSSE) at Johns Hopkins University (JHU).” *ArcGIS Dashboards*, John Hopkins Coronavirus Resource Center, 2021, [www.arcgis.com/apps/opsdashboard/index.html#/bda7594740fd40299423467b48e9ecf6.](www.arcgis.com/apps/opsdashboard/index.html#/bda7594740fd40299423467b48e9ecf6.)\n",
    "<br><sup>3</sup> *Symptoms of Coronavirus*. (2021, February 22). Retrieved April 01, 2021, from [https://www.cdc.gov/coronavirus/2019-ncov/symptoms-testing/symptoms.html](https://www.cdc.gov/coronavirus/2019-ncov/symptoms-testing/symptoms.html)\n",
    "<br><sup>4</sup> Budson, A. (2021, March 04). *The hidden long-term cognitive effects of covid-19*. Retrieved April 01, 2021, from [https://www.health.harvard.edu/blog/the-hidden-long-term-cognitive-effects-of-covid-2020100821133](https://www.health.harvard.edu/blog/the-hidden-long-term-cognitive-effects-of-covid-2020100821133)\n",
    "<br><sup>5</sup> Szmigiera, M. (2021, March 24). *Impact of the coronavirus pandemic on the global economy - Statistics & Facts*. Retrieved April 01, 2021, from [https://www.statista.com/topics/6139/covid-19-impact-on-the-global-economy/](https://www.statista.com/topics/6139/covid-19-impact-on-the-global-economy/)\n",
    "<br><sup>6</sup> *Jamaica: Economic Outline*. Mar. 2021, [www.lloydsbanktrade.com/en/market-potential/jamaica/economy](www.lloydsbanktrade.com/en/market-potential/jamaica/economy)\n",
    "<br><sup>7</sup> Amadeo, Kimberly. “Unemployment Rate, Effect, and Trends.” *The Balance*, Dotdash, 21 Nov. 2020, [www.thebalance.com/unemployment-rate-3305744#:~:text=The%20unemployment%20rate%20is%20an,sectors%20are%20losing%20jobs%20faster](www.thebalance.com/unemployment-rate-3305744#:~:text=The%20unemployment%20rate%20is%20an,sectors%20are%20losing%20jobs%20faster)\n",
    "<br><sup>8</sup> Singh, Ajai R, and Shakuntala A Singh. “Diseases of poverty and lifestyle, well-being and human development.” *Mens sana monographs* vol. 6,1 (2008): 187-225. doi:10.4103/0973-1229.40567\n",
    "<br><sup>9</sup> “Fact Check: Post Comparing Responses to Tuberculosis and COVID-19 Pandemics Lacks Key Information.” *Reuters*, Thomson Reuters, 19 Aug. 2020, [www.reuters.com/article/uk-factcheck-covid-tb/fact-check-post-comparing-responses-to-tuberculosis-and-covid-19-pandemics-lacks-key-information-idUSKCN25F16X](https://www.reuters.com/article/uk-factcheck-covid-tb/fact-check-post-comparing-responses-to-tuberculosis-and-covid-19-pandemics-lacks-key-information-idUSKCN25F16X) \n",
    "<br><sup>10</sup> Inflab. “Is GDP a Good Measure of Economic Well-Being?” *Medium*, Medium, 9 July 2018, [medium.com/@Inflab/is-gdp-a-good-measure-of-economic-well-being-7ad449ded139#:~:text=GDP%20measures%20both%20the%20economy's,expenditure%20on%20goods%20and%20services.&amp;text=Because%20most%20people%20would%20prefer,being%20of%20the%20average%20individual](medium.com/@Inflab/is-gdp-a-good-measure-of-economic-well-being-7ad449ded139#:~:text=GDP%20measures%20both%20the%20economy's,expenditure%20on%20goods%20and%20services.&amp;text=Because%20most%20people%20would%20prefer,being%20of%20the%20average%20individual) \n",
    "<br><sup>11</sup> “List of Countries by Leading Trade Partners.” *Wikipedia*, Wikimedia Foundation, 11 Feb. 2021, [en.wikipedia.org/wiki/List_of_countries_by_leading_trade_partners](en.wikipedia.org/wiki/List_of_countries_by_leading_trade_partners) "
   ]
  }
 ],
 "metadata": {
  "kernelspec": {
   "display_name": "Python 3",
   "language": "python",
   "name": "python3"
  },
  "language_info": {
   "codemirror_mode": {
    "name": "ipython",
    "version": 3
   },
   "file_extension": ".py",
   "mimetype": "text/x-python",
   "name": "python",
   "nbconvert_exporter": "python",
   "pygments_lexer": "ipython3",
   "version": "3.9.2"
  }
 },
 "nbformat": 4,
 "nbformat_minor": 5
}
