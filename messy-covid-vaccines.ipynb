{
 "cells": [
  {
   "cell_type": "markdown",
   "id": "dressed-summit",
   "metadata": {},
   "source": [
    "## Messy Midterm File"
   ]
  },
  {
   "cell_type": "markdown",
   "id": "norman-resort",
   "metadata": {},
   "source": [
    "#### Preliminary Ideas"
   ]
  },
  {
   "cell_type": "markdown",
   "id": "reduced-demand",
   "metadata": {},
   "source": [
    "- Initially wanted to look at types of food datasets\n",
    "- Then wanted to compare food inspection violations to timeline of covid, but enough finding data is matching locations proved to be somewhat difficult\n",
    "- Finding food data to relate to covid seemed too scarce, or not widespread enough, so I left that idea"
   ]
  },
  {
   "cell_type": "markdown",
   "id": "synthetic-immune",
   "metadata": {},
   "source": [
    "#### Imports"
   ]
  },
  {
   "cell_type": "code",
   "execution_count": 1,
   "id": "hundred-asthma",
   "metadata": {
    "tags": []
   },
   "outputs": [],
   "source": [
    "#Setup and imports\n",
    "import pandas as pd\n",
    "import numpy as np\n",
    "import seaborn as sns\n",
    "import matplotlib.pyplot as plt\n",
    "import numpy as np\n",
    "from scipy import stats\n",
    "\n",
    "vac_raw = pd.read_csv('data/country_vaccinations.csv')\n",
    "#Wouldn't work, there were special characters\n",
    "#econ_raw = pd.read_csv('data/economic_freedom_index2019_data.csv')\n",
    "econ_raw = pd.read_csv('data/economic_freedom_index2019_data.csv', encoding='latin-1')"
   ]
  },
  {
   "cell_type": "code",
   "execution_count": 2,
   "id": "laughing-designation",
   "metadata": {},
   "outputs": [],
   "source": [
    "pd.set_option('display.max_rows', 20) \n",
    "pd.set_option('display.max_columns', 20) \n",
    "\n",
    "\n",
    "#Some random lines to try and determine why the offset between CountryID and the index in the econ data changed\n",
    "\n",
    "#econ[econ['CountryID'] == econ.shift()['CountryID']]\n",
    "#econ[econ['CountryID'] == econ.shift()['CountryID'].dropna().astype(int)]\n",
    "#len(econ.shift()['CountryID'].dropna().astype(int))\n",
    "#econ.loc[econ['CountryID'].shift(1) != econ['CountryID']] \n",
    "#econ['CountryID'].value_counts()\n",
    "#econ[econ['CountryID'] != econ.shift()['CountryID']+1]\n"
   ]
  },
  {
   "cell_type": "markdown",
   "id": "cellular-forum",
   "metadata": {},
   "source": [
    "#### Societal Problem"
   ]
  },
  {
   "cell_type": "markdown",
   "id": "median-massage",
   "metadata": {},
   "source": [
    "The issue of the Coronavirus pandemic is one that the entire world is not only extremely aware of, but one that has greatly impacted the lives of most. With development of effective vaccines, countries around the world are working to deliver vaccines to their residents as efficiently as possible. However, every country may not have equal access to the vaccine, and well-to-do countries may have much easier access to the vaccine than their less well-off counterparts. Insight into vaccine distribution among different countries could potentially highlight a problem of inequalities of Covid-19 vaccine distributions across the world."
   ]
  },
  {
   "cell_type": "markdown",
   "id": "boxed-belarus",
   "metadata": {},
   "source": [
    "#### Problem Justification"
   ]
  },
  {
   "cell_type": "markdown",
   "id": "pending-maker",
   "metadata": {},
   "source": [
    "Receiving the Covid vaccine is vital in protecting against Covid-19, just like how the flu vaccine is vital\n",
    "to avoid contraction of the flu. More vaccines will lead to less people contracting Covid, thus dramatically reducing the \n",
    "spread. According to the Centers for Disease Control and Prevention, \"COVID-19 vaccination will be an important tool to\n",
    "help stop the pandemic.\" <sup>1</sup> "
   ]
  },
  {
   "cell_type": "markdown",
   "id": "approved-transportation",
   "metadata": {},
   "source": [
    "However, vaccines must be bought before they can be distributed, which can make it more difficult to obtain in poorer countries. As a result, Covid may remain a continuous problem in those areas. The obvious impact of Covid's continued existence is the detrimental health effects. The virus has caused almost 2.82 million deaths worldwide as of April 1st, 2021, however has infected almost 130 Million people worldwide.<sup>2</sup> Commonly observed effects of the virus include, but are not limited to, fever, cough, fatigue, and nausea<sup>3</sup>, however there is no way to be sure of the long term effects of the virus. In fact, studies have begun to find evidence of hidden neurological long term effects of Covid-19. Harvard studies have found that some individuals who have recovered from the virus show impaired attention ability, likely due to oxygen deprevation in the brain, which leads to minor brain damage. Covid infection may also lead to higher risk of alzheimers in the future. <sup>4</sup> "
   ]
  },
  {
   "cell_type": "markdown",
   "id": "psychological-secretary",
   "metadata": {},
   "source": [
    "In additon to health risks, Coronavirus has posed as a major risk to the global economy. Travel and tourism industries have suffered due to lockdowns\n",
    "in many parts of the world. Airlines experienced a large dropoff in revenue due to the fact that there is very little need for flights during a pandemic. <sup>5</sup> Additionally, countries with economies that heavily depend on tourism, such as Jamaica, have seen dramatic declines in their economy. <sup>6</sup> Equally as important, there has been a decline in consumer demand for products due to the fact that so many places have some type of lockdown enforced. This decrease in demand has led to cuts in the number of workers in an effort to optimize company revenue, resulting in increased global unemployment and a $3.5 trillion loss in global income. <sup>7</sup>"
   ]
  },
  {
   "cell_type": "markdown",
   "id": "governmental-flour",
   "metadata": {},
   "source": [
    "It is obvious that mitigating these detrimental effects of Covid-19 is important for not only global health, but also the global economy. By exploring possible sources of distribution inequalities, we can gain some insight into the patterns of global vaccine distribution. "
   ]
  },
  {
   "cell_type": "markdown",
   "id": "described-convenience",
   "metadata": {},
   "source": [
    "#### Research Questions"
   ]
  },
  {
   "cell_type": "markdown",
   "id": "duplicate-study",
   "metadata": {},
   "source": [
    "  - How is the Covid-19 vaccine distribution different between countries? \n",
    "  - How do economic indicators, such as GDP  \n",
    "    and unemployment rate relate to the amount of vaccines distributed within a given country? \n",
    "  - How do these factors relate to how soon the first vaccines were administered within that country?"
   ]
  },
  {
   "cell_type": "markdown",
   "id": "sticky-camcorder",
   "metadata": {},
   "source": [
    "Gross Domestic Product (GDP) is a good metric due to the fact that is measures the monetary value of goods and services produced within a country. This provides an easily accessible metric for each country in question and is especially appropriate because we want to determine how vaccine distribution depends on the economic well-being of a country, which is well expressed by GDP.<sup>10</sup> In turn, unemployment rates have been greatly impacted by the pandemic and can reflect the recent impacts on the economy due to Covid-19.<sup>7</sup> It is important to consider these factors for the entire world rather than just a specific country because of the nature of Covid-19. The virus has impacted the entire globe and shut down international travel and had detrimental effects on the world economy because countries rely on each other for trading.<sup>11</sup> Looking at specific countries would not suffice because of how connected countries are to each other. A solution to stopping the spread of Covid-19 will have to consider the entire globe. "
   ]
  },
  {
   "cell_type": "markdown",
   "id": "basic-alabama",
   "metadata": {},
   "source": [
    "Identifying if there is a relationship between vaccine distribution and economic indicators could help determine ways to stop the spread of Covid-19.\n",
    "The importance of stoping the spread of Covid-19 is clear, and by determining where vaccine distribution is weaker than other countries, efforts can be made to make vaccines more readily available for individuals within those areas. "
   ]
  },
  {
   "cell_type": "markdown",
   "id": "economic-flour",
   "metadata": {},
   "source": [
    "#### Datasets"
   ]
  },
  {
   "cell_type": "code",
   "execution_count": 3,
   "id": "integral-python",
   "metadata": {},
   "outputs": [
    {
     "data": {
      "text/plain": [
       "136"
      ]
     },
     "execution_count": 3,
     "metadata": {},
     "output_type": "execute_result"
    }
   ],
   "source": [
    "len(vac_raw['country'].unique()) #Number of countries\n",
    "#BEWARE: There are 195 countries but only 136 reported. We cant make generalizations for the whole globe off of this\n",
    "#Actually narrowed down, as seen later"
   ]
  },
  {
   "cell_type": "markdown",
   "id": "advanced-market",
   "metadata": {},
   "source": [
    "[Country Vaccinations](https://www.kaggle.com/gpreda/covid-world-vaccination-progress) - \n",
    "This dataset provides vaccination information such as vaccination brand, date, total vaccinations, total people fully vaccinated for a total of 136 different countries. Similar information is available in terms of percentages rather that total numbers. We will be concerned with the total count data so that we are fair when comparing countries of greatly different population sizes. Original data comes from [Our World in Data](https://github.com/owid/covid-19-data)\n",
    "<br> [Economic Freedom Index](https://www.kaggle.com/lewisduncan93/the-economic-freedom-index) - This dataset provides lots of data regarding government spending, variations of GDP, unemployment, and numerous measures of freedom, such as business, labor, monetary, and trade freedom, for 186 diffrent countries. We will concern ourselves with country name, (region??), GDP, GDP per Capita, and unemployment rate. Original data comes from [The Heritage Foundation](https://www.heritage.org/index)"
   ]
  },
  {
   "cell_type": "markdown",
   "id": "outstanding-paradise",
   "metadata": {},
   "source": [
    "#### Manipulation"
   ]
  },
  {
   "cell_type": "markdown",
   "id": "comfortable-noise",
   "metadata": {},
   "source": [
    "###### Set up econ"
   ]
  },
  {
   "cell_type": "code",
   "execution_count": 4,
   "id": "digital-consolidation",
   "metadata": {},
   "outputs": [],
   "source": [
    "#econ[econ['Country Name'] != econ['WEBNAME']]      #See the differences between the two columns\n",
    "econ = pd.DataFrame()\n",
    "econ['Country Name'] = econ_raw['Country Name']\n",
    "econ['Region'] = econ_raw['Region']\n",
    "econ['GDP (Billions, PPP)'] = econ_raw['GDP (Billions, PPP)']\n",
    "econ['GDP per Capita (PPP)'] = econ_raw['GDP per Capita (PPP)']\n",
    "econ['Unemployment (%)'] = econ_raw['Unemployment (%)']"
   ]
  },
  {
   "cell_type": "markdown",
   "id": "dietary-shelter",
   "metadata": {},
   "source": [
    "###### Set up vac"
   ]
  },
  {
   "cell_type": "code",
   "execution_count": 112,
   "id": "incorrect-trail",
   "metadata": {},
   "outputs": [],
   "source": [
    "vac = pd.DataFrame()\n",
    "vac['country'] = vac_raw['country']\n",
    "vac['date'] = vac_raw['date']\n",
    "vac['total_vaccinations'] = vac_raw['total_vaccinations']\n",
    "vac['people_vaccinated'] = vac_raw['people_vaccinated']\n",
    "vac['people_fully_vaccinated'] = vac_raw['people_fully_vaccinated']\n",
    "vac['daily_vaccinations'] = vac_raw['daily_vaccinations']\n",
    "vac['total_vaccinations_per_hundred'] = vac_raw['total_vaccinations_per_hundred']\n",
    "vac['people_vaccinated_per_hundred'] = vac_raw['people_vaccinated_per_hundred']\n",
    "vac['people_fully_vaccinated_per_hundred'] = vac_raw['people_fully_vaccinated_per_hundred']"
   ]
  },
  {
   "cell_type": "code",
   "execution_count": 231,
   "id": "floating-swift",
   "metadata": {},
   "outputs": [
    {
     "data": {
      "image/png": "[encoded data removed]",
      "text/plain": [
       "<Figure size 432x288 with 1 Axes>"
      ]
     },
     "metadata": {
      "needs_background": "light"
     },
     "output_type": "display_data"
    }
   ],
   "source": [
    "import matplotlib.ticker as ticker\n",
    "\n",
    "pd.set_option('display.max_rows', None) \n",
    "#BEWARE: All data is not from the same data... \"most recent\" is different for different countries\n",
    "vac.groupby(['country', 'date'])['total_vaccinations'].max()\n",
    "latest = vac.groupby(['country'])['date'].max().astype('datetime64')     #This we can see a wide rande of most recent reportings for each country\n",
    "vac['date'].astype('datetime64')\n",
    "#vac['date'].astype('int')\n",
    "#plt.hist(latest, bins=10)\n",
    "#plt.xticks(10)      #worth a shot\n",
    "#plt.locator_params(axis='x', nbins=10)\n",
    "\n",
    "#Im just trying to change the xaxis tick marks ugh\n",
    "\n",
    "#fig, ax = plt.subplots(1,1)\n",
    "#ax.plot(vac['date'])\n",
    "#ax.xaxis.set_major_locator(ticker.MultipleLocator(500))\n",
    "#plt.show()\n",
    "#q = latest.apply(lambda x: x.value)\n",
    "#w = q.apply(lambda x: x - q.min())\n",
    "#plt.hist(w, bins = [i for i in range(w.min(), w.max(), int((w.max()-w.min())/15))])\n",
    "#plt.xticks([round(i,1) for i in range(w.min(), w.max(), int((w.max()-w.min())/15))])\n",
    "#[round(i,1) for i in range(w.min(), w.max(), int((w.max()-w.min())/15))]\n",
    "\n",
    "mine = latest.groupby([latest.dt.year, latest.dt.month, latest.dt.day]).value_counts()#.plot(kind=\"bar\")\n",
    "#plt.xticks([latest.unique()])\n",
    "#pd.Series(latest.unique()).sort_values(latest.dt.day)\n",
    "\n",
    "#Too much time just looking at the distribution of latest report dates... this graph gives enough data just for\n",
    "#my knowledge... probably wont include in the final at this point\n",
    "latest[latest >= '2021-03-01'].count()\n",
    "#import datetime\n",
    "#datetime.datetime.now() + datetime.timedelta(days=1)\n",
    "\n",
    "start = pd.to_datetime('2021-01-18')\n",
    "end = pd.to_datetime('2021-03-14')\n",
    "dates = pd.date_range(start,end,freq='D')\n",
    "dates_axis = pd.Series([t.strftime('%Y%m%d') for t in dates]).apply(lambda x: pd.to_datetime(x))\n",
    "dates_axis = list(dates_axis.apply(lambda x: str(x)[:10]))\n",
    "\n",
    "count = latest.groupby([latest.dt.year, latest.dt.month, latest.dt.day]).count()\n",
    "levels = [count.index.levels[0].values, count.index.levels[1].values, range(32)]\n",
    "new_index = pd.MultiIndex.from_product(levels, names=count.index.names)[18:-17]\n",
    "new_index = new_index.drop((2021, 2, 29))\n",
    "new_index = new_index.drop((2021, 2, 30))\n",
    "new_index = new_index.drop((2021, 2, 31))\n",
    "new_index = new_index.drop((2021, 2, 0))\n",
    "new_index = new_index.drop((2021, 3, 0))\n",
    "count = count.reindex(new_index, fill_value=0)\n",
    "\n",
    "fig = plt.figure()\n",
    "ax = fig.add_axes([0,0,1,1])\n",
    "plt.bar(dates_axis,list(count))\n",
    "plt.title('Distribution of latest reported dates across countries')\n",
    "plt.xlabel('Date')\n",
    "plt.ylabel('Number of countries')\n",
    "plt.xticks(['2021-01-18', '2021-02-01', '2021-02-15', '2021-03-01', '2021-03-14'])\n",
    "plt.show()\n"
   ]
  },
  {
   "cell_type": "code",
   "execution_count": 7,
   "id": "headed-summer",
   "metadata": {},
   "outputs": [
    {
     "data": {
      "text/plain": [
       "0.8382352941176471"
      ]
     },
     "execution_count": 7,
     "metadata": {},
     "output_type": "execute_result"
    }
   ],
   "source": [
    "latest[latest >= '2021-03-01'].count()/latest.count()    #Percent of countries with dates on/after March 1st"
   ]
  },
  {
   "cell_type": "raw",
   "id": "modular-given",
   "metadata": {},
   "source": [
    "Now... this can cause some problems! How are we supposed to compare vaccine distribution between countries if the latest reported dates are around 2 months apart? We can either backtrack and compare all countries at the January 18th (which means we're losing months of important data). OR, we can look only at countries with later reported dates. If we look at recent dates from March 1st to March 14th, we can still observe 84% of the data"
   ]
  },
  {
   "cell_type": "code",
   "execution_count": 8,
   "id": "smoking-ethernet",
   "metadata": {},
   "outputs": [],
   "source": [
    "#df.loc[df.groupby([\"sp\", \"mt\"])[\"count\"].idxmax()]\n",
    "pd.set_option('display.max_rows', None) \n",
    "\n",
    "vac = vac[vac['date'] >= '2021-03-01']        #Remove all  entries with dates before march\n",
    "vac = vac.drop(vac[vac['total_vaccinations'].isnull()].index.values)   #Remore all entries with NaN total vaccination count\n",
    "#vac.groupby('country')['date'].astype('datetime64').idxmax()     #Many variations of this tried\n",
    "vac = vac.drop_duplicates(['country'], keep='last')\n",
    "#vac = vac.reset_index()\n",
    "#vac = vac.drop(['index'], axis=1)\n",
    "#vac"
   ]
  },
  {
   "cell_type": "code",
   "execution_count": 87,
   "id": "technical-substance",
   "metadata": {},
   "outputs": [
    {
     "data": {
      "image/png": "[encoded data removed]",
      "text/plain": [
       "<Figure size 432x288 with 1 Axes>"
      ]
     },
     "metadata": {
      "needs_background": "light"
     },
     "output_type": "display_data"
    },
    {
     "data": {
      "text/plain": [
       "count    114.000000\n",
       "mean       2.910631\n",
       "std       10.886642\n",
       "min        0.001215\n",
       "25%        0.040812\n",
       "50%        0.256012\n",
       "75%        1.253572\n",
       "max      107.060274\n",
       "Name: total_vaccinations, dtype: float64"
      ]
     },
     "execution_count": 87,
     "metadata": {},
     "output_type": "execute_result"
    }
   ],
   "source": [
    "plt.hist(vac['total_vaccinations'].apply(lambda x: x/1000000), bins=25)\n",
    "#vac['total_vaccinations'].apply(lambda x: x/1000)\n",
    "plt.title(\"Histogram of Vaccines Distributed (in Millions)\")\n",
    "plt.xlabel('Vaccines Distributed (in Millions)')\n",
    "plt.ylabel('Frequency')\n",
    "plt.show()\n",
    "vac['total_vaccinations'].apply(lambda x: x/1000000).describe()"
   ]
  },
  {
   "cell_type": "code",
   "execution_count": 101,
   "id": "biblical-think",
   "metadata": {},
   "outputs": [
    {
     "data": {
      "text/plain": [
       "0.6929824561403509"
      ]
     },
     "execution_count": 101,
     "metadata": {},
     "output_type": "execute_result"
    }
   ],
   "source": [
    "vac[vac.total_vaccinations < 1000000]['country'].count()/vac.country.count()     #Percent below 1M"
   ]
  },
  {
   "cell_type": "code",
   "execution_count": 10,
   "id": "comfortable-assault",
   "metadata": {},
   "outputs": [
    {
     "data": {
      "text/plain": [
       "104         1215.0\n",
       "102         2076.0\n",
       "85          2094.0\n",
       "58          3536.0\n",
       "68          3793.0\n",
       "86          4832.0\n",
       "1           4914.0\n",
       "40          5130.0\n",
       "111         5248.0\n",
       "2           6169.0\n",
       "27          7202.0\n",
       "11          7444.0\n",
       "76          7579.0\n",
       "33          8832.0\n",
       "54          9144.0\n",
       "66         11431.0\n",
       "110        12194.0\n",
       "22         14937.0\n",
       "71         18000.0\n",
       "0          23635.0\n",
       "30         25000.0\n",
       "61         27637.0\n",
       "12         27727.0\n",
       "42         29383.0\n",
       "41         30890.0\n",
       "18         31980.0\n",
       "49         32027.0\n",
       "113        36359.0\n",
       "53         39428.0\n",
       "101        44963.0\n",
       "38         46136.0\n",
       "45         46862.0\n",
       "9          50980.0\n",
       "105        53155.0\n",
       "60         54865.0\n",
       "91         88106.0\n",
       "57         95888.0\n",
       "56         97104.0\n",
       "74         98168.0\n",
       "24         99275.0\n",
       "67        100000.0\n",
       "78        114500.0\n",
       "64        120073.0\n",
       "89        131186.0\n",
       "13        138218.0\n",
       "29        139359.0\n",
       "95        145544.0\n",
       "4         162551.0\n",
       "16        170659.0\n",
       "32        185912.0\n",
       "43        190700.0\n",
       "109       204169.0\n",
       "63        206114.0\n",
       "52        230542.0\n",
       "21        241724.0\n",
       "75        252313.0\n",
       "84        254000.0\n",
       "94        258024.0\n",
       "62        292104.0\n",
       "37        300000.0\n",
       "23        300956.0\n",
       "15        338879.0\n",
       "59        352533.0\n",
       "55        360000.0\n",
       "81        380000.0\n",
       "6         453586.0\n",
       "77        492488.0\n",
       "7         551197.0\n",
       "96        588958.0\n",
       "48        589512.0\n",
       "92        611314.0\n",
       "93        620928.0\n",
       "28        660000.0\n",
       "72        677602.0\n",
       "34        682945.0\n",
       "73        690657.0\n",
       "98        773011.0\n",
       "20        782301.0\n",
       "26        834041.0\n",
       "5        1026244.0\n",
       "100      1035004.0\n",
       "25       1081907.0\n",
       "99       1093915.0\n",
       "10       1145988.0\n",
       "80       1163873.0\n",
       "39       1283472.0\n",
       "112      1370896.0\n",
       "70       1619839.0\n",
       "44       1733557.0\n",
       "90       2007650.0\n",
       "88       2048735.0\n",
       "82       2069143.0\n",
       "87       2232110.0\n",
       "3        2381429.0\n",
       "17       3026665.0\n",
       "65       4339926.0\n",
       "8        4398094.0\n",
       "79       4517537.0\n",
       "97       5352767.0\n",
       "47       5480346.0\n",
       "69       5682508.0\n",
       "106      6540912.0\n",
       "19       6591788.0\n",
       "51       6715732.0\n",
       "35       7292852.0\n",
       "83       7698889.0\n",
       "36       8863270.0\n",
       "50       9374827.0\n",
       "103     10992095.0\n",
       "14      11422666.0\n",
       "31      21683887.0\n",
       "107     25781120.0\n",
       "46      29908038.0\n",
       "108    107060274.0\n",
       "Name: total_vaccinations, dtype: float64"
      ]
     },
     "execution_count": 10,
     "metadata": {},
     "output_type": "execute_result"
    }
   ],
   "source": [
    "#Thats crazy! Half of the countries have given below 250,000 vaccines an 75% below 1,250,000. However the max is 107M. \n",
    "vac['total_vaccinations'].sort_values()\n",
    "#We can see that there is that one outlier"
   ]
  },
  {
   "cell_type": "code",
   "execution_count": 234,
   "id": "consistent-enlargement",
   "metadata": {},
   "outputs": [
    {
     "name": "stdout",
     "output_type": "stream",
     "text": [
      "The United States are an outlier with  107060274.0  total vaccines\n",
      "Can we remove the US for a second to get insight into the rest of the data\n"
     ]
    },
    {
     "data": {
      "text/plain": [
       "'United States'"
      ]
     },
     "execution_count": 234,
     "metadata": {},
     "output_type": "execute_result"
    }
   ],
   "source": [
    "#Use to find the countries with certain vaccination total values\n",
    "max = vac['total_vaccinations'].dropna().max()    \n",
    "#vac.query('total_vaccinations==max')['country']\n",
    "#df['A'][df['B'] == 3].values[0]\n",
    "vac['country'][vac['total_vaccinations'] == max].values[0]\n",
    "print(\"The United States are an outlier with \", max, \" total vaccines\") \n",
    "print(\"Can we remove the US for a second to get insight into the rest of the data\")\n",
    "vac['country'][vac['total_vaccinations'] == max].values[0]\n"
   ]
  },
  {
   "cell_type": "code",
   "execution_count": 86,
   "id": "bridal-geography",
   "metadata": {},
   "outputs": [
    {
     "data": {
      "image/png": "[encoded data removed]",
      "text/plain": [
       "<Figure size 432x288 with 1 Axes>"
      ]
     },
     "metadata": {
      "needs_background": "light"
     },
     "output_type": "display_data"
    },
    {
     "data": {
      "text/plain": [
       "count    113.000000\n",
       "mean       1.988952\n",
       "std        4.676598\n",
       "min        0.001215\n",
       "25%        0.039428\n",
       "50%        0.254000\n",
       "75%        1.163873\n",
       "max       29.908038\n",
       "Name: total_vaccinations, dtype: float64"
      ]
     },
     "execution_count": 86,
     "metadata": {},
     "output_type": "execute_result"
    }
   ],
   "source": [
    "#Now without the US\n",
    "plt.hist(vac['total_vaccinations'].sort_values()[:-1].apply(lambda x: x/1000000), bins=25)\n",
    "#vac['total_vaccinations'].apply(lambda x: x/1000)\n",
    "plt.title(\"Histogram of Vaccines Distributed w/o the United States (in Millions)\")\n",
    "plt.xlabel('Vaccines Distributed (in Millions)')\n",
    "plt.ylabel('Frequency')\n",
    "plt.show()\n",
    "vac['total_vaccinations'].sort_values()[:-1].apply(lambda x: x/1000000).describe()"
   ]
  },
  {
   "cell_type": "markdown",
   "id": "dominant-indonesia",
   "metadata": {},
   "source": [
    "At this point, I'll add a new question based off of the distributions of vaccine distribution data\n",
    "- How even is the current distribution of vaccines across all countries?\n",
    "**Dont forget to add to final questions**"
   ]
  },
  {
   "cell_type": "code",
   "execution_count": 13,
   "id": "female-protein",
   "metadata": {},
   "outputs": [
    {
     "data": {
      "text/plain": [
       "0                   Albania\n",
       "1                   Andorra\n",
       "2                    Angola\n",
       "3                 Argentina\n",
       "4                 Australia\n",
       "5                   Austria\n",
       "6                Azerbaijan\n",
       "7                   Bahrain\n",
       "8                Bangladesh\n",
       "9                  Barbados\n",
       "10                  Belgium\n",
       "11                   Belize\n",
       "12                  Bermuda\n",
       "13                  Bolivia\n",
       "14                   Brazil\n",
       "15                 Bulgaria\n",
       "16                 Cambodia\n",
       "17                   Canada\n",
       "18           Cayman Islands\n",
       "19                    Chile\n",
       "20                 Colombia\n",
       "21               Costa Rica\n",
       "22            Cote d'Ivoire\n",
       "23                  Croatia\n",
       "24                   Cyprus\n",
       "25                  Czechia\n",
       "26                  Denmark\n",
       "27                 Dominica\n",
       "28       Dominican Republic\n",
       "29                  Ecuador\n",
       "30              El Salvador\n",
       "31                  England\n",
       "32                  Estonia\n",
       "33           Faeroe Islands\n",
       "34                  Finland\n",
       "35                   France\n",
       "36                  Germany\n",
       "37                    Ghana\n",
       "38                Gibraltar\n",
       "39                   Greece\n",
       "40                Greenland\n",
       "41                Guatemala\n",
       "42                 Guernsey\n",
       "43                Hong Kong\n",
       "44                  Hungary\n",
       "45                  Iceland\n",
       "46                    India\n",
       "47                Indonesia\n",
       "48                  Ireland\n",
       "49              Isle of Man\n",
       "50                   Israel\n",
       "51                    Italy\n",
       "52                    Japan\n",
       "53                   Jersey\n",
       "54                    Kenya\n",
       "55                   Kuwait\n",
       "56                   Latvia\n",
       "57                  Lebanon\n",
       "58            Liechtenstein\n",
       "59                Lithuania\n",
       "60               Luxembourg\n",
       "61                    Macao\n",
       "62                 Malaysia\n",
       "63                 Maldives\n",
       "64                    Malta\n",
       "65                   Mexico\n",
       "66                  Moldova\n",
       "67                 Mongolia\n",
       "68               Montenegro\n",
       "69                  Morocco\n",
       "70              Netherlands\n",
       "71              New Zealand\n",
       "72         Northern Ireland\n",
       "73                   Norway\n",
       "74                     Oman\n",
       "75                   Panama\n",
       "76                 Paraguay\n",
       "77                     Peru\n",
       "78              Philippines\n",
       "79                   Poland\n",
       "80                 Portugal\n",
       "81                    Qatar\n",
       "82                  Romania\n",
       "83                   Russia\n",
       "84                   Rwanda\n",
       "85              Saint Lucia\n",
       "86               San Marino\n",
       "87             Saudi Arabia\n",
       "88                 Scotland\n",
       "89                  Senegal\n",
       "90                   Serbia\n",
       "91               Seychelles\n",
       "92                Singapore\n",
       "93                 Slovakia\n",
       "94                 Slovenia\n",
       "95             South Africa\n",
       "96              South Korea\n",
       "97                    Spain\n",
       "98                Sri Lanka\n",
       "99                   Sweden\n",
       "100             Switzerland\n",
       "101                Thailand\n",
       "102                 Tunisia\n",
       "103                  Turkey\n",
       "104                  Uganda\n",
       "105                 Ukraine\n",
       "106    United Arab Emirates\n",
       "107          United Kingdom\n",
       "108           United States\n",
       "109                 Uruguay\n",
       "110               Venezuela\n",
       "111                 Vietnam\n",
       "112                   Wales\n",
       "113                Zimbabwe\n",
       "Name: country, dtype: object"
      ]
     },
     "execution_count": 13,
     "metadata": {},
     "output_type": "execute_result"
    }
   ],
   "source": [
    "vac['country'].sort_values()      #looking at the vaccine countries\n",
    "#econ['Country Name']\n",
    "#econ"
   ]
  },
  {
   "cell_type": "code",
   "execution_count": 14,
   "id": "expensive-netherlands",
   "metadata": {},
   "outputs": [],
   "source": [
    "tot_vac = vac['total_vaccinations']\n",
    "tot_vac = tot_vac.apply(lambda x: int(float(x)))\n",
    "gdps = [[x, econ[econ['Country Name'] == x]['GDP (Billions, PPP)']] for x in vac['country']]\n",
    "\n",
    "#econ[econ['Country Name'] == 'Australia']['GDP (Billions, PPP)']\n",
    "#econ\n",
    "vac['country'].head(5)\n",
    "#econ[econ['Country Name'] == 'Andorra']\n",
    "econ['Country Name'].sort_values()\n",
    "\n",
    "#Oh no! The united kingdom is split up into Northern Ireland, Scotland, Wales, and England\n",
    "#A few other places are formatted differently, so I'll go back manually or look them up\n",
    "pd.Series(gdps)\n",
    "gdps[1][1] = ['$3.2']       #Andorra\n",
    "gdps[12][1] = ['$7.5']      #Bermuda\n",
    "gdps[18][1] = ['$5.5']      #Cayman Islands\n",
    "gdps[22][1] = ['$96.9']     #Cote d'Ivoire\n",
    "gdps[25][1] = ['$250.7']    #Czechia\n",
    "gdps[31][1] = ['$2,500']    #England\n",
    "gdps[33][1] = ['$3.1']      #Faeroe Islands\n",
    "gdps[38][1] = ['$3.2']      #Gibraltar\n",
    "gdps[40][1] = ['$3.1']      #Greenland\n",
    "gdps[42][1] = ['$3.5']      #Guernsey\n",
    "gdps[49][1] = ['$7.5']      #Isleof Man\n",
    "gdps[53][1] = ['$6.6']      #Jersey\n",
    "gdps[58][1] = ['$6.5']      #Liechtenstein\n",
    "gdps[61][1] = ['$53.9']     #Macao\n",
    "gdps[72][1] = ['$63.5']     #Northern Ireland\n",
    "gdps[86][1] = ['$1.7']      #San Marino\n",
    "gdps[88][1] = ['$205']      #Scotland\n",
    "gdps[96][1] = ['$2,029.0']  #South Korea\n",
    "gdps[112][1] = ['$103.7']   #Wales\n",
    "#list(pd.Series(gdps)[0][1])\n",
    "realgdps = pd.Series(gdps).apply(lambda x: list(x[1])[0].replace('$','').replace(',', '').strip())\n",
    "realgdps = realgdps.apply(lambda x: float(x))\n",
    "#pd.Series(gdps)\n",
    "#vac     #weird that they have UK AND all the separate components\n",
    "#realgdps     #gdps ordered alphabetically by country\n",
    "#tot_vac      #total vaccines ordered alphabetically by the same countries"
   ]
  },
  {
   "cell_type": "code",
   "execution_count": 15,
   "id": "fitted-shopping",
   "metadata": {},
   "outputs": [
    {
     "data": {
      "image/png": "[encoded data removed]",
      "text/plain": [
       "<Figure size 432x288 with 1 Axes>"
      ]
     },
     "metadata": {
      "needs_background": "light"
     },
     "output_type": "display_data"
    }
   ],
   "source": [
    "plt.scatter(tot_vac, realgdps)\n",
    "plt.show()\n",
    "#tot_vac.apply(lambda x: x/100000)"
   ]
  },
  {
   "cell_type": "code",
   "execution_count": 16,
   "id": "golden-channel",
   "metadata": {},
   "outputs": [
    {
     "data": {
      "image/png": "[encoded data removed]",
      "text/plain": [
       "<Figure size 432x288 with 1 Axes>"
      ]
     },
     "metadata": {
      "needs_background": "light"
     },
     "output_type": "display_data"
    }
   ],
   "source": [
    "plt.scatter(tot_vac.apply(lambda x: np.log10(x)), realgdps)\n",
    "plt.show()\n",
    "#tot_vac.apply(lambda x: x/100000)"
   ]
  },
  {
   "cell_type": "code",
   "execution_count": 17,
   "id": "working-history",
   "metadata": {},
   "outputs": [
    {
     "data": {
      "image/png": "[encoded data removed]",
      "text/plain": [
       "<Figure size 432x288 with 1 Axes>"
      ]
     },
     "metadata": {
      "needs_background": "light"
     },
     "output_type": "display_data"
    }
   ],
   "source": [
    "plt.scatter(tot_vac.apply(lambda x: np.log10(x)), realgdps.apply(lambda x: np.log10(x)))\n",
    "plt.show()"
   ]
  },
  {
   "cell_type": "markdown",
   "id": "electric-brunswick",
   "metadata": {},
   "source": [
    "I'm now realizing that doing a log transformation on the variable distribution of vaccines would be a better option to see all of the data... lets do that now!\n"
   ]
  },
  {
   "cell_type": "code",
   "execution_count": 18,
   "id": "wireless-murder",
   "metadata": {},
   "outputs": [
    {
     "data": {
      "image/png": "[encoded data removed]",
      "text/plain": [
       "<Figure size 432x288 with 1 Axes>"
      ]
     },
     "metadata": {
      "needs_background": "light"
     },
     "output_type": "display_data"
    },
    {
     "data": {
      "text/plain": [
       "0.4666701853275299"
      ]
     },
     "execution_count": 18,
     "metadata": {},
     "output_type": "execute_result"
    }
   ],
   "source": [
    "plt.hist(np.log10(tot_vac), bins = 15, color='purple')     #Just wanted to try purple!\n",
    "test_stat, p_val = stats.shapiro(np.log10(tot_vac))\n",
    "plt.title('Histogram of log(total vaccines) per country')\n",
    "plt.xlabel('log(total vaccines)')\n",
    "plt.ylabel('Frequency')\n",
    "plt.show()\n",
    "p_val\n",
    "#Since the p value is greater than .05, we can accept the null hypothesis that the data follows a normal distribution"
   ]
  },
  {
   "cell_type": "code",
   "execution_count": 25,
   "id": "social-content",
   "metadata": {},
   "outputs": [
    {
     "data": {
      "image/png": "[encoded data removed]",
      "text/plain": [
       "<Figure size 432x288 with 1 Axes>"
      ]
     },
     "metadata": {
      "needs_background": "light"
     },
     "output_type": "display_data"
    },
    {
     "data": {
      "text/plain": [
       "0.04752250388264656"
      ]
     },
     "execution_count": 25,
     "metadata": {},
     "output_type": "execute_result"
    }
   ],
   "source": [
    "plt.hist(np.log10(realgdps), bins = 15, color='purple')     #Just wanted to try purple!\n",
    "test_stat, p_val = stats.shapiro(np.log10(realgdps))\n",
    "plt.title('Histogram of log(total GDP) per country')\n",
    "plt.xlabel('log(total GDP)')\n",
    "plt.ylabel('Frequency')\n",
    "plt.show()\n",
    "#vac\n",
    "#np.log(realgdps)\n",
    "p_val\n",
    "#The p value is rather small and <.05, so we should reject the null hypothesis that this distribution approximately\n",
    "#follows a normal distribution. However, it is still much better than the non-log transformed distribution"
   ]
  },
  {
   "cell_type": "code",
   "execution_count": 53,
   "id": "executed-replacement",
   "metadata": {},
   "outputs": [
    {
     "data": {
      "image/png": "[encoded data removed]",
      "text/plain": [
       "<Figure size 432x288 with 1 Axes>"
      ]
     },
     "metadata": {
      "needs_background": "light"
     },
     "output_type": "display_data"
    }
   ],
   "source": [
    "plt.scatter(np.log10(tot_vac), np.log10(realgdps), color='purple')\n",
    "plt.title('Log(Total Vaccines) vs. Log(Total GDP) Across Countries')\n",
    "plt.xlabel('Log(Total Vaccines)')\n",
    "plt.ylabel('Log(Total GDP)')\n",
    "plt.show()"
   ]
  },
  {
   "cell_type": "code",
   "execution_count": 65,
   "id": "sapphire-baptist",
   "metadata": {},
   "outputs": [
    {
     "name": "stdout",
     "output_type": "stream",
     "text": [
      "0.738703491142522  :  6.559731509371865e-21\n"
     ]
    }
   ],
   "source": [
    "corr, p_value = stats.spearmanr(np.log10(tot_vac), np.log10(realgdps))\n",
    "print(corr, \" : \" , p_value)"
   ]
  },
  {
   "cell_type": "markdown",
   "id": "cheap-bones",
   "metadata": {},
   "source": [
    "The Spearman Correlation Coefficient is .74, showing a strong (approaching very strong) monotonic relationship between total vaccines distributed and country GDP. The p value is extremely small, this it is very unlikely that a correlation coefficient produced would be this strong if there was no correlation between total vaccines and GDP. "
   ]
  },
  {
   "cell_type": "code",
   "execution_count": 40,
   "id": "inside-dominant",
   "metadata": {},
   "outputs": [],
   "source": [
    "#Unemployment rates are pre-pandemic in 2018.... make sure to mention this!\n",
    "emp = econ['Unemployment (%)']\n",
    "emp = [[x, econ[econ['Country Name'] == x]['Unemployment (%)']] for x in vac['country']]\n",
    "pd.Series(emp)\n",
    "emp[1][1] = ['1.7']       #Andorra\n",
    "emp[12][1] = ['6']        #Bermuda\n",
    "emp[18][1] = ['3.4']      #Cayman Islands\n",
    "emp[22][1] = ['3.21']     #Cote d'Ivoire\n",
    "emp[25][1] = ['2.24']     #Czechia\n",
    "emp[27][1] = ['5.74']     #Dominica\n",
    "emp[31][1] = ['4.2']      #England\n",
    "emp[33][1] = ['2.1']      #Faeroe Islands\n",
    "emp[38][1] = ['1']        #Gibraltar\n",
    "emp[40][1] = ['2.4']      #Greenland\n",
    "emp[42][1] = ['1.7']      #Guernsey\n",
    "emp[49][1] = ['1.8']      #Isle of Man\n",
    "emp[53][1] = ['1.6']      #Jersey\n",
    "emp[58][1] = ['1.6']      #Liechtenstein\n",
    "emp[61][1] = ['1.8']      #Macao\n",
    "emp[72][1] = ['3.9']      #Northern Ireland\n",
    "emp[86][1] = ['8']        #San Marino\n",
    "emp[88][1] = ['4.3']      #Scotland\n",
    "emp[91][1] = ['3']        #Seychelles\n",
    "emp[96][1] = ['3.7']      #South Korea\n",
    "emp[112][1] = ['4.5']     #Wales\n",
    "emp = pd.Series(emp).apply(lambda x: float(list(x[1])[0].strip()))\n"
   ]
  },
  {
   "cell_type": "code",
   "execution_count": 59,
   "id": "efficient-fiber",
   "metadata": {},
   "outputs": [
    {
     "data": {
      "image/png": "[encoded data removed]",
      "text/plain": [
       "<Figure size 432x288 with 1 Axes>"
      ]
     },
     "metadata": {
      "needs_background": "light"
     },
     "output_type": "display_data"
    },
    {
     "data": {
      "text/plain": [
       "4.066749437203754e-10"
      ]
     },
     "execution_count": 59,
     "metadata": {},
     "output_type": "execute_result"
    }
   ],
   "source": [
    "plt.hist(emp)\n",
    "test_stat, p_val = stats.shapiro(emp)\n",
    "plt.title('Histogram of unemployment rates across countries')\n",
    "plt.xlabel('Unemployment Rate (%)')\n",
    "plt.ylabel('Frequency')\n",
    "plt.xticks()\n",
    "plt.show()\n",
    "p_val"
   ]
  },
  {
   "cell_type": "code",
   "execution_count": 51,
   "id": "enabling-first",
   "metadata": {},
   "outputs": [
    {
     "data": {
      "image/png": "[encoded data removed]",
      "text/plain": [
       "<Figure size 432x288 with 1 Axes>"
      ]
     },
     "metadata": {
      "needs_background": "light"
     },
     "output_type": "display_data"
    },
    {
     "data": {
      "text/plain": [
       "4.726912720798282e-06"
      ]
     },
     "execution_count": 51,
     "metadata": {},
     "output_type": "execute_result"
    }
   ],
   "source": [
    "plt.hist(np.log10(emp))\n",
    "test_stat, p_val = stats.shapiro(np.log10(emp))\n",
    "plt.title('Histogram of log(unemployment rates) across countries')\n",
    "plt.xlabel('log(Unemployment Rate)')\n",
    "plt.ylabel('Frequency')\n",
    "plt.show()\n",
    "p_val"
   ]
  },
  {
   "cell_type": "code",
   "execution_count": 235,
   "id": "surprising-quality",
   "metadata": {},
   "outputs": [
    {
     "data": {
      "image/png": "[encoded data removed]",
      "text/plain": [
       "<Figure size 432x288 with 1 Axes>"
      ]
     },
     "metadata": {
      "needs_background": "light"
     },
     "output_type": "display_data"
    }
   ],
   "source": [
    "plt.scatter(np.log10(tot_vac), np.log10(emp), color='purple')\n",
    "plt.title('Log(Total Vaccines) vs. Unemployment Rates Across Countries')\n",
    "plt.xlabel('Log(Total Vaccines)')\n",
    "plt.ylabel('Unemployment Rate (%)')\n",
    "plt.show()"
   ]
  },
  {
   "cell_type": "code",
   "execution_count": 237,
   "id": "searching-building",
   "metadata": {},
   "outputs": [
    {
     "name": "stdout",
     "output_type": "stream",
     "text": [
      "0.12790495318043973  :  0.17504245984992198\n"
     ]
    }
   ],
   "source": [
    "corr, p_value = stats.spearmanr(np.log10(tot_vac),np.log10(emp))\n",
    "print(corr, \" : \" , p_value)"
   ]
  },
  {
   "cell_type": "markdown",
   "id": "informal-fifty",
   "metadata": {},
   "source": [
    "The Spearman Correlation Coefficient is .13, showing a very weak monotonic relationship between total vaccines distributed and country GDP. The p value is greater than .05, meaning that it is likely that a correlation coefficient such as ours would be produced if there was no correlation between total vaccines and pre-Covid employment rates. "
   ]
  },
  {
   "cell_type": "markdown",
   "id": "sacred-amplifier",
   "metadata": {},
   "source": [
    "###### Answering Questions"
   ]
  },
  {
   "cell_type": "markdown",
   "id": "retired-venice",
   "metadata": {},
   "source": [
    "  - How even is the current distribution of vaccines across all countries?\n",
    "  - How is the Covid-19 vaccine distribution different between countries? (REMOVE THIS... pretty much the first one)\n",
    "  - How do economic indicators, such as GDP  \n",
    "    and unemployment rate relate to the amount of vaccines distributed within a given country?\n",
    "  - How do these factors relate to how soon the first vaccines were administered within that country? (REMOVE THIS ONE)"
   ]
  },
  {
   "cell_type": "markdown",
   "id": "welsh-silver",
   "metadata": {},
   "source": [
    "###### Updated questions"
   ]
  },
  {
   "cell_type": "markdown",
   "id": "concerned-mexico",
   "metadata": {},
   "source": [
    "  - How even is the current distribution of vaccines across all countries?"
   ]
  },
  {
   "cell_type": "raw",
   "id": "talented-verse",
   "metadata": {},
   "source": [
    "From the distribution, we can see that the distribution of total vaccines distributed per country is extremely right skewed. 75% of countries have administered below 1.25 Million vaccines as of March 14th, 2021. There is one country which is a great outlier with about 107 Million vaccine distributions, which is the United States. Maybe we can gain some more insight if we remove this one outlier and observe the rest of the data. \n",
    "\n",
    "After removing the United States at 107M total vaccinations, we can see that the data is still heavily right skewed. The next highest number of vaccinations after the United States is around 30M in India, which is a large difference. After removing the United States, we can see that 75% of data is now below 1.16 Million vaccines. \n",
    "\n",
    "Overall, we can see that the distribution of Covid-19 vaccines is dramatically uneven across the globe. While some countries have very high numbers of vaccine totals when compared to other countries, the vast majority of countries have given below 1.25 Million vaccines within their country, resulting in a heavily right skewed distribution. However, we should be careful when applying this generalization since our data only included 114 out of 195 countries in the world. It is possible for the missing countries to share commonalities that the observed countries do not, so at this point, our findings should apply to the observed set of countries only. "
   ]
  },
  {
   "cell_type": "markdown",
   "id": "connected-technical",
   "metadata": {},
   "source": [
    "  - Is there any relationship between economic indicators, such as GDP  \n",
    "    and unemployment rate, the amount of vaccines distributed within a given country?"
   ]
  },
  {
   "cell_type": "raw",
   "id": "metallic-movie",
   "metadata": {},
   "source": [
    "After observing a scatterplot of total vaccines distributed data and country GDP data on a log transformed scale, a clear pattern emerges. There appears so be a positive correlation between a country's GDP and the total number of vaccines which they have administered. To analyze their relationship, we found the Spearman Correlation Coefficient and its associated p-value. The coefficient is .74 and the p-value is essentially 0. Our small p-value tells us that there is about a 0% chance that we would have found a coeffient of .74 is there is no correlation between country GDP and total vaccines given. The strength and direction of the relationship is determines by out coefficient, .74. This tells us that the relationship between country GDP and covid vaccines is somewhere between strong and very strong. This does not speak to the causation of the relationship, however it may spark ideas about possible hypotheses that could explain the relationship and could be tested in the future. One hypothesis may propose the idea that more vaccines are given in countries with higher GDP's because they are more likely to be able to afford the vaccines for their citizens. \n",
    "\n",
    "Once again, we are only able to apply these findings to the countries within our dataset. We have observed only 114 out of the 195 countries in the world. From out data, we have no way of knowing whether the countries not recorded share commonalities that the countries we did observe do not have. Without knowledge of the sampling techniques or data on every country in the world, we are not able to accurately generalize our findings to all countries. Further investigation would be needed. \n",
    "\n",
    "We can also analyze the relationship between total vaccines given and pre-Covid unemployment rates between different countries. Plotting total vaccines distributed versus country unemployment rate on a scatterplot did not yield any clear pattern. We again found a Spearman Correlation Coefficient and it associated p-value, which came out to be .13 and 0.175 respectively. The p-value is rather high ant tells us that there is a 17.5% chance that we would have found a correlation coeffient of .13 if there is no relationship between country unemployment rate and total vaccines distributed. This is moderately large percentage, so we can not make any conclusions that there is a relationship between a country's pre-Covid unemployment rate and total vaccines given. "
   ]
  },
  {
   "cell_type": "markdown",
   "id": "compound-tribune",
   "metadata": {},
   "source": [
    "###### Ethical consideration\n",
    "- Stakeholders & Values\n",
    "    - National Governments for each country\n",
    "         - Effective care for their people\n",
    "         - Good social standing\n",
    "    - Vaccine Producers\n",
    "        - Vaccine Sales\n",
    "        - Profit\n",
    "    - Citizens of each country\n",
    "        - Vaccine Access (quick!)\n",
    "    - International Trade / Economy (big one, yes...)\n",
    "        - Trade to pick back up again\n",
    "        - International travel\n",
    "        - Businesses to reopen\n",
    "        - Market demand to rise \n",
    "        \n",
    "- Ethical Conflict\n",
    "    <br>National governments may not be able to remain in good standing if they cant get the vaccines to their citizens. Many of these stakeholders values align, however there many be other variables in the way. For example, vaccine producers want to sell their vaccines and national governments want the vaccines so that they can provide care for their people and remain in good social standing. The only problem may be that national governments cannot provide the money for these vaccines. Vaccine producers would then sell their vaccines to other countries that can provide money, leaving the poorer countries falling short of their values. \n",
    "<br><br>Didnt find a relationship between unemployment and total vaccines, so maybe people will argue that countries with high unemployment don't need extra help. Maybe there is a relationship though and we just didnt find it. "
   ]
  },
  {
   "cell_type": "markdown",
   "id": "automotive-horror",
   "metadata": {},
   "source": [
    "###### Overall ethical analysis"
   ]
  },
  {
   "cell_type": "raw",
   "id": "trying-contrast",
   "metadata": {},
   "source": [
    "We have seen that countries with higher GPD's have administered higher amounts of vaccines to their citizens. This can easily put those countries with lower GDP's at a disadvantage. Despite the global pandemic, companies produce vaccines for profit. Countries with higher GDP's have easier access to these vaccines because they have the money to pay for the limited supply of vaccines. This pattern is likely to continue until countries with higher GDP's no longer have a large demand for the vaccines. Vaccine producers would then have to consider what their next step would be, whether it be lower the price to provide the poorer countries with easier vaccine access, or to take a different course of action that may maximizes their profit. This choice presents itself as choosing between personal gain and profit or global wellbeing, which in turn may help the global economy and come back to help them as well. \n",
    "\n",
    "Additionally, this data seems to highlight a pattern that will make the values of national governments of poorer nations more difficult to acheive. The fact that these countries do not administer as many vaccines as richer countries may put the government in poor social standing. It citizens and other countries may see the govenment as ineffective in performing their duty to protect its citizens. This in turn doesn't allow for citizens to acheive their goal of receiving a vaccine as quick as possible. Dependent on relationship between the dominant races within each country and a country's GDP, this inability to provide a vaccine may be mistaken for the ineffectiveness of certain races to provide for their country. In addition, while countries with higher GDP may be able to return to their contributions to the global economy as they were before Covid, these lower GDP countries may have a more difficult time. Many of these small impacts on the global economy may sum to create a considerable impact for every other country involved. \n",
    "\n",
    "There are also reasons for concerns about the actions that may not be taken the relationship between total vaccined administered and GDP. If third world countries do not have easy access to Covid-19 vaccines, it could become another disease that continuously threatens third world countries, in addition to diseases such as TB, Malaria, and HIV/AIDS. <sup>8</sup> However, Covid-19 is different from these diseases in the way that it spreads. Malaria spreads through mosquitos and HIV spreads through contact of bodily fluids. Although TB does spread in a respiratory way, it requires more time of exposure to spread than Covid-19 does, meaning that Covid-19 spreads more easily. <sup>9</sup> If covid is stopped within wealthier countries and interations pick back up with poorer countries, then Covid could possibly mutate within those areas are spread back to the US, where the current vaccine may or may not protect individuals from the virus. Even within those areas of poorer countries, economies may continue to struggle as they were before a vaccine because the vaccine is not available to them. This shows that controlling the virus is not only a humane course of action, but also has potential lingering results on the economy and future health of Americans and citizens of other countries.\n",
    "\n",
    "Regarding unemployment rates of countries before Covid, we did not find a relationship to total vaccines administered within that country. Just because we didn't find one does not necessarily mean that there isn't one. The absence of a relationship may be mistaken for the equality of all countries in gaining access to and administering a vaccine. In reality, the absense of a relationship between two factors doesn't mean there is no relationship to another factor, as seen with GDP. If these results are mistaken for equality in vaccine access, then this may incorrectly be leveraged as an excuse to not help countries that have shown low total vaccination counts. \n",
    "\n",
    "In respect to the distributions of specific variables among countries, such as their total vaccine counts, GDP, and unemployment, clear outliers may be outed as being far superior or inferior to other countries. Outliers are clear to see in this distributions because of the skewness in the data. Outliers in the total vaccines and GDP distribution may be viewed as somehow superior to other countries. On the other hand, outliers in the unemployment rate distribution may be viewed as inferior to their other countries. \n",
    "\n",
    "As seen above, it is possible for premature assumptions to be made from our data. The patterns found or not found in this analysis may serve as a good starting point for other analyses or may promote other questions, however should not be used to create assumptions without further analysis. Applying the data to real life is an important part to understanding that data. "
   ]
  },
  {
   "cell_type": "code",
   "execution_count": 24,
   "id": "painful-penetration",
   "metadata": {},
   "outputs": [],
   "source": [
    "pd.set_option('display.max_rows', None) "
   ]
  },
  {
   "cell_type": "markdown",
   "id": "frozen-giant",
   "metadata": {},
   "source": [
    "#### Sources\n",
    "<sup>1</sup> Centers for Disease Control and Prevention. *Benefits of Getting a COVID-19 Vaccine.* Centers for Disease Control and Prevention. [https://www.cdc.gov/coronavirus/2019-ncov/vaccines/vaccine-benefits.html. ](https://www.cdc.gov/coronavirus/2019-ncov/vaccines/vaccine-benefits.html)\n",
    "<br><sup>2</sup> “COVID-19 Dashboard by the Center for Systems Science and Engineering (CSSE) at Johns Hopkins University (JHU).” *ArcGIS Dashboards*, John Hopkins Coronavirus Resource Center, 2021, [www.arcgis.com/apps/opsdashboard/index.html#/bda7594740fd40299423467b48e9ecf6.](www.arcgis.com/apps/opsdashboard/index.html#/bda7594740fd40299423467b48e9ecf6.)\n",
    "<br><sup>3</sup> *Symptoms of Coronavirus*. (2021, February 22). Retrieved April 01, 2021, from [https://www.cdc.gov/coronavirus/2019-ncov/symptoms-testing/symptoms.html](https://www.cdc.gov/coronavirus/2019-ncov/symptoms-testing/symptoms.html)\n",
    "<br><sup>4</sup> Budson, A. (2021, March 04). *The hidden long-term cognitive effects of covid-19*. Retrieved April 01, 2021, from [https://www.health.harvard.edu/blog/the-hidden-long-term-cognitive-effects-of-covid-2020100821133](https://www.health.harvard.edu/blog/the-hidden-long-term-cognitive-effects-of-covid-2020100821133)\n",
    "<br><sup>5</sup> Szmigiera, M. (2021, March 24). *Impact of the coronavirus pandemic on the global economy - Statistics & Facts*. Retrieved April 01, 2021, from [https://www.statista.com/topics/6139/covid-19-impact-on-the-global-economy/](https://www.statista.com/topics/6139/covid-19-impact-on-the-global-economy/)\n",
    "<br><sup>6</sup> *Jamaica: Economic Outline*. Mar. 2021, [www.lloydsbanktrade.com/en/market-potential/jamaica/economy](www.lloydsbanktrade.com/en/market-potential/jamaica/economy)\n",
    "<br><sup>7</sup> Amadeo, Kimberly. “Unemployment Rate, Effect, and Trends.” *The Balance*, Dotdash, 21 Nov. 2020, [www.thebalance.com/unemployment-rate-3305744#:~:text=The%20unemployment%20rate%20is%20an,sectors%20are%20losing%20jobs%20faster](www.thebalance.com/unemployment-rate-3305744#:~:text=The%20unemployment%20rate%20is%20an,sectors%20are%20losing%20jobs%20faster)\n",
    "<br><sup>8</sup> Singh, Ajai R, and Shakuntala A Singh. “Diseases of poverty and lifestyle, well-being and human development.” *Mens sana monographs* vol. 6,1 (2008): 187-225. doi:10.4103/0973-1229.40567\n",
    "<br><sup>9</sup> “Fact Check: Post Comparing Responses to Tuberculosis and COVID-19 Pandemics Lacks Key Information.” *Reuters*, Thomson Reuters, 19 Aug. 2020, [www.reuters.com/article/uk-factcheck-covid-tb/fact-check-post-comparing-responses-to-tuberculosis-and-covid-19-pandemics-lacks-key-information-idUSKCN25F16X](https://www.reuters.com/article/uk-factcheck-covid-tb/fact-check-post-comparing-responses-to-tuberculosis-and-covid-19-pandemics-lacks-key-information-idUSKCN25F16X) \n",
    "<br><sup>10</sup> Inflab. “Is GDP a Good Measure of Economic Well-Being?” *Medium*, Medium, 9 July 2018, [medium.com/@Inflab/is-gdp-a-good-measure-of-economic-well-being-7ad449ded139#:~:text=GDP%20measures%20both%20the%20economy's,expenditure%20on%20goods%20and%20services.&amp;text=Because%20most%20people%20would%20prefer,being%20of%20the%20average%20individual](medium.com/@Inflab/is-gdp-a-good-measure-of-economic-well-being-7ad449ded139#:~:text=GDP%20measures%20both%20the%20economy's,expenditure%20on%20goods%20and%20services.&amp;text=Because%20most%20people%20would%20prefer,being%20of%20the%20average%20individual) \n",
    "<br><sup>11</sup> “List of Countries by Leading Trade Partners.” *Wikipedia*, Wikimedia Foundation, 11 Feb. 2021, [en.wikipedia.org/wiki/List_of_countries_by_leading_trade_partners](en.wikipedia.org/wiki/List_of_countries_by_leading_trade_partners) "
   ]
  },
  {
   "cell_type": "code",
   "execution_count": null,
   "id": "stunning-washer",
   "metadata": {},
   "outputs": [],
   "source": []
  }
 ],
 "metadata": {
  "kernelspec": {
   "display_name": "Python 3",
   "language": "python",
   "name": "python3"
  },
  "language_info": {
   "codemirror_mode": {
    "name": "ipython",
    "version": 3
   },
   "file_extension": ".py",
   "mimetype": "text/x-python",
   "name": "python",
   "nbconvert_exporter": "python",
   "pygments_lexer": "ipython3",
   "version": "3.9.2"
  }
 },
 "nbformat": 4,
 "nbformat_minor": 5
}
